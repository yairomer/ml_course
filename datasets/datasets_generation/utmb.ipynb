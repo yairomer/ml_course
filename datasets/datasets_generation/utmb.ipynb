{
 "cells": [
  {
   "cell_type": "markdown",
   "metadata": {},
   "source": [
    "# Cleaning Up the Ultra-Trail du Mont-Blanc (UTMB) Dataset\n",
    "The inspiration for using this dataset came from the following Kaggle datasets:\n",
    "- [Dataset: Ultra-Trail du Mont-Blanc 2003-2017](https://www.kaggle.com/ceruleansea/ultratrail-du-montblanc-20032017)\n",
    "\n",
    "The original dataset taken from here: <https://utmbmontblanc.com/en/page/349/results.html>"
   ]
  },
  {
   "cell_type": "markdown",
   "metadata": {},
   "source": [
    "## Importing Packages"
   ]
  },
  {
   "cell_type": "code",
   "execution_count": 1,
   "metadata": {
    "ExecuteTime": {
     "end_time": "2019-04-02T02:19:53.397561Z",
     "start_time": "2019-04-02T02:19:53.111852Z"
    }
   },
   "outputs": [],
   "source": [
    "import numpy as np\n",
    "import pandas as pd"
   ]
  },
  {
   "cell_type": "markdown",
   "metadata": {},
   "source": [
    "## Deffining Parameters"
   ]
  },
  {
   "cell_type": "code",
   "execution_count": 2,
   "metadata": {
    "ExecuteTime": {
     "end_time": "2019-04-02T02:19:53.404424Z",
     "start_time": "2019-04-02T02:19:53.399622Z"
    }
   },
   "outputs": [],
   "source": [
    "years = [2004, 2005, 2006, 2007, 2008, 2009, 2011, 2012, 2013, 2014, 2015, 2016, 2017, 2018]\n",
    "age_group_mapping = {\n",
    "    'ES': 0,\n",
    "    'SE': 1,\n",
    "    'V1': 2,\n",
    "    'V2': 3,\n",
    "    'V3': 4,\n",
    "    'V4': 5,\n",
    "    'V5': 6,\n",
    "}"
   ]
  },
  {
   "cell_type": "markdown",
   "metadata": {},
   "source": [
    "## Downloading Dataset"
   ]
  },
  {
   "cell_type": "markdown",
   "metadata": {},
   "source": [
    "Manually download the web pages containing the dataset as a table. Go to <https://utmbmontblanc.com/en/page/349/results.html> select each of the years, right click the web page and select \"save as...\". Save the pages in \"../original/utmb_pages/{year}.html\""
   ]
  },
  {
   "cell_type": "markdown",
   "metadata": {},
   "source": [
    "## Loading the Datset"
   ]
  },
  {
   "cell_type": "code",
   "execution_count": 3,
   "metadata": {
    "ExecuteTime": {
     "end_time": "2019-04-02T02:20:09.299665Z",
     "start_time": "2019-04-02T02:19:53.406155Z"
    }
   },
   "outputs": [],
   "source": [
    "datasets_list = []\n",
    "for year in years:\n",
    "    dataset_tmp = pd.read_html('../original/utmb_pages/{}.html'.format(year), attrs = {'id': 'tabPass'})[0]\n",
    "    dataset_tmp = pd.DataFrame({'Rank': dataset_tmp[0],\n",
    "                                'Name': dataset_tmp[2],\n",
    "                                'Category': dataset_tmp[3],\n",
    "                                'Year': year,\n",
    "                                'Time': dataset_tmp[len(dataset_tmp.columns) - 1],\n",
    "                                })\n",
    "    dataset_tmp = dataset_tmp.dropna(axis=0)\n",
    "    datasets_list.append(dataset_tmp)\n",
    "\n",
    "full_dataset = pd.concat(datasets_list, axis=0, ignore_index=True)"
   ]
  },
  {
   "cell_type": "markdown",
   "metadata": {},
   "source": [
    "## Displaying the first 10 rows of the dataset"
   ]
  },
  {
   "cell_type": "code",
   "execution_count": 4,
   "metadata": {
    "ExecuteTime": {
     "end_time": "2019-04-02T02:20:09.321628Z",
     "start_time": "2019-04-02T02:20:09.302015Z"
    }
   },
   "outputs": [
    {
     "name": "stdout",
     "output_type": "stream",
     "text": [
      "19516\n"
     ]
    },
    {
     "data": {
      "text/html": [
       "<div>\n",
       "<style scoped>\n",
       "    .dataframe tbody tr th:only-of-type {\n",
       "        vertical-align: middle;\n",
       "    }\n",
       "\n",
       "    .dataframe tbody tr th {\n",
       "        vertical-align: top;\n",
       "    }\n",
       "\n",
       "    .dataframe thead th {\n",
       "        text-align: right;\n",
       "    }\n",
       "</style>\n",
       "<table border=\"1\" class=\"dataframe\">\n",
       "  <thead>\n",
       "    <tr style=\"text-align: right;\">\n",
       "      <th></th>\n",
       "      <th>Category</th>\n",
       "      <th>Name</th>\n",
       "      <th>Rank</th>\n",
       "      <th>Time</th>\n",
       "      <th>Year</th>\n",
       "    </tr>\n",
       "  </thead>\n",
       "  <tbody>\n",
       "    <tr>\n",
       "      <th>0</th>\n",
       "      <td>SE H</td>\n",
       "      <td>DELEBARRE Vincent</td>\n",
       "      <td>1</td>\n",
       "      <td>21:06:18</td>\n",
       "      <td>2004</td>\n",
       "    </tr>\n",
       "    <tr>\n",
       "      <th>1</th>\n",
       "      <td>SE H</td>\n",
       "      <td>SHERPA Dachhiri-Dawa</td>\n",
       "      <td>2</td>\n",
       "      <td>23:02:28</td>\n",
       "      <td>2004</td>\n",
       "    </tr>\n",
       "    <tr>\n",
       "      <th>2</th>\n",
       "      <td>SE H</td>\n",
       "      <td>PACHE Jean Claude</td>\n",
       "      <td>3</td>\n",
       "      <td>23:40:08</td>\n",
       "      <td>2004</td>\n",
       "    </tr>\n",
       "    <tr>\n",
       "      <th>3</th>\n",
       "      <td>SE H</td>\n",
       "      <td>FAVRE-FELIX Lionel</td>\n",
       "      <td>4</td>\n",
       "      <td>23:50:36</td>\n",
       "      <td>2004</td>\n",
       "    </tr>\n",
       "    <tr>\n",
       "      <th>4</th>\n",
       "      <td>SE H</td>\n",
       "      <td>NEMETH Csaba</td>\n",
       "      <td>5</td>\n",
       "      <td>23:54:09</td>\n",
       "      <td>2004</td>\n",
       "    </tr>\n",
       "    <tr>\n",
       "      <th>5</th>\n",
       "      <td>SE H</td>\n",
       "      <td>CERCUEIL Michel</td>\n",
       "      <td>6</td>\n",
       "      <td>24:46:26</td>\n",
       "      <td>2004</td>\n",
       "    </tr>\n",
       "    <tr>\n",
       "      <th>6</th>\n",
       "      <td>V1 H</td>\n",
       "      <td>VERDIER Philippe</td>\n",
       "      <td>7</td>\n",
       "      <td>24:46:28</td>\n",
       "      <td>2004</td>\n",
       "    </tr>\n",
       "    <tr>\n",
       "      <th>7</th>\n",
       "      <td>V1 H</td>\n",
       "      <td>FATTON Christian</td>\n",
       "      <td>8</td>\n",
       "      <td>25:20:30</td>\n",
       "      <td>2004</td>\n",
       "    </tr>\n",
       "    <tr>\n",
       "      <th>8</th>\n",
       "      <td>V3 H</td>\n",
       "      <td>SCHWEIZER Werner</td>\n",
       "      <td>9</td>\n",
       "      <td>25:24:22</td>\n",
       "      <td>2004</td>\n",
       "    </tr>\n",
       "    <tr>\n",
       "      <th>9</th>\n",
       "      <td>V1 H</td>\n",
       "      <td>TECHER Henri</td>\n",
       "      <td>10</td>\n",
       "      <td>25:36:29</td>\n",
       "      <td>2004</td>\n",
       "    </tr>\n",
       "  </tbody>\n",
       "</table>\n",
       "</div>"
      ],
      "text/plain": [
       "  Category                  Name  Rank      Time  Year\n",
       "0     SE H     DELEBARRE Vincent     1  21:06:18  2004\n",
       "1     SE H  SHERPA Dachhiri-Dawa     2  23:02:28  2004\n",
       "2     SE H     PACHE Jean Claude     3  23:40:08  2004\n",
       "3     SE H    FAVRE-FELIX Lionel     4  23:50:36  2004\n",
       "4     SE H          NEMETH Csaba     5  23:54:09  2004\n",
       "5     SE H       CERCUEIL Michel     6  24:46:26  2004\n",
       "6     V1 H      VERDIER Philippe     7  24:46:28  2004\n",
       "7     V1 H      FATTON Christian     8  25:20:30  2004\n",
       "8     V3 H      SCHWEIZER Werner     9  25:24:22  2004\n",
       "9     V1 H          TECHER Henri    10  25:36:29  2004"
      ]
     },
     "execution_count": 4,
     "metadata": {},
     "output_type": "execute_result"
    }
   ],
   "source": [
    "print(len(full_dataset))\n",
    "full_dataset.head(10)"
   ]
  },
  {
   "cell_type": "markdown",
   "metadata": {},
   "source": [
    "## Cleaning up the data"
   ]
  },
  {
   "cell_type": "code",
   "execution_count": 5,
   "metadata": {
    "ExecuteTime": {
     "end_time": "2019-04-02T02:20:09.431451Z",
     "start_time": "2019-04-02T02:20:09.324290Z"
    }
   },
   "outputs": [
    {
     "data": {
      "text/html": [
       "<div>\n",
       "<style scoped>\n",
       "    .dataframe tbody tr th:only-of-type {\n",
       "        vertical-align: middle;\n",
       "    }\n",
       "\n",
       "    .dataframe tbody tr th {\n",
       "        vertical-align: top;\n",
       "    }\n",
       "\n",
       "    .dataframe thead th {\n",
       "        text-align: right;\n",
       "    }\n",
       "</style>\n",
       "<table border=\"1\" class=\"dataframe\">\n",
       "  <thead>\n",
       "    <tr style=\"text-align: right;\">\n",
       "      <th></th>\n",
       "      <th>Name</th>\n",
       "      <th>Rank</th>\n",
       "      <th>Year</th>\n",
       "      <th>Result</th>\n",
       "      <th>Age Group</th>\n",
       "      <th>Gender</th>\n",
       "    </tr>\n",
       "  </thead>\n",
       "  <tbody>\n",
       "    <tr>\n",
       "      <th>0</th>\n",
       "      <td>DELEBARRE Vincent</td>\n",
       "      <td>1</td>\n",
       "      <td>2004</td>\n",
       "      <td>21.105000</td>\n",
       "      <td>1</td>\n",
       "      <td>0</td>\n",
       "    </tr>\n",
       "    <tr>\n",
       "      <th>1</th>\n",
       "      <td>SHERPA Dachhiri-Dawa</td>\n",
       "      <td>2</td>\n",
       "      <td>2004</td>\n",
       "      <td>23.041111</td>\n",
       "      <td>1</td>\n",
       "      <td>0</td>\n",
       "    </tr>\n",
       "    <tr>\n",
       "      <th>2</th>\n",
       "      <td>PACHE Jean Claude</td>\n",
       "      <td>3</td>\n",
       "      <td>2004</td>\n",
       "      <td>23.668889</td>\n",
       "      <td>1</td>\n",
       "      <td>0</td>\n",
       "    </tr>\n",
       "    <tr>\n",
       "      <th>3</th>\n",
       "      <td>FAVRE-FELIX Lionel</td>\n",
       "      <td>4</td>\n",
       "      <td>2004</td>\n",
       "      <td>23.843333</td>\n",
       "      <td>1</td>\n",
       "      <td>0</td>\n",
       "    </tr>\n",
       "    <tr>\n",
       "      <th>4</th>\n",
       "      <td>NEMETH Csaba</td>\n",
       "      <td>5</td>\n",
       "      <td>2004</td>\n",
       "      <td>23.902500</td>\n",
       "      <td>1</td>\n",
       "      <td>0</td>\n",
       "    </tr>\n",
       "    <tr>\n",
       "      <th>5</th>\n",
       "      <td>CERCUEIL Michel</td>\n",
       "      <td>6</td>\n",
       "      <td>2004</td>\n",
       "      <td>24.773889</td>\n",
       "      <td>1</td>\n",
       "      <td>0</td>\n",
       "    </tr>\n",
       "    <tr>\n",
       "      <th>6</th>\n",
       "      <td>VERDIER Philippe</td>\n",
       "      <td>7</td>\n",
       "      <td>2004</td>\n",
       "      <td>24.774444</td>\n",
       "      <td>2</td>\n",
       "      <td>0</td>\n",
       "    </tr>\n",
       "    <tr>\n",
       "      <th>7</th>\n",
       "      <td>FATTON Christian</td>\n",
       "      <td>8</td>\n",
       "      <td>2004</td>\n",
       "      <td>25.341667</td>\n",
       "      <td>2</td>\n",
       "      <td>0</td>\n",
       "    </tr>\n",
       "    <tr>\n",
       "      <th>8</th>\n",
       "      <td>SCHWEIZER Werner</td>\n",
       "      <td>9</td>\n",
       "      <td>2004</td>\n",
       "      <td>25.406111</td>\n",
       "      <td>4</td>\n",
       "      <td>0</td>\n",
       "    </tr>\n",
       "    <tr>\n",
       "      <th>9</th>\n",
       "      <td>TECHER Henri</td>\n",
       "      <td>10</td>\n",
       "      <td>2004</td>\n",
       "      <td>25.608056</td>\n",
       "      <td>2</td>\n",
       "      <td>0</td>\n",
       "    </tr>\n",
       "  </tbody>\n",
       "</table>\n",
       "</div>"
      ],
      "text/plain": [
       "                   Name  Rank  Year     Result  Age Group  Gender\n",
       "0     DELEBARRE Vincent     1  2004  21.105000          1       0\n",
       "1  SHERPA Dachhiri-Dawa     2  2004  23.041111          1       0\n",
       "2     PACHE Jean Claude     3  2004  23.668889          1       0\n",
       "3    FAVRE-FELIX Lionel     4  2004  23.843333          1       0\n",
       "4          NEMETH Csaba     5  2004  23.902500          1       0\n",
       "5       CERCUEIL Michel     6  2004  24.773889          1       0\n",
       "6      VERDIER Philippe     7  2004  24.774444          2       0\n",
       "7      FATTON Christian     8  2004  25.341667          2       0\n",
       "8      SCHWEIZER Werner     9  2004  25.406111          4       0\n",
       "9          TECHER Henri    10  2004  25.608056          2       0"
      ]
     },
     "execution_count": 5,
     "metadata": {},
     "output_type": "execute_result"
    }
   ],
   "source": [
    "dataset = full_dataset.copy()  # Creat a copy of the data\n",
    "\n",
    "## convert time from string to float-hours\n",
    "dataset['Result'] = pd.to_timedelta(dataset['Time']).astype(int) / 1e9 / 60 / 60\n",
    "dataset['Age Group'] = dataset['Category'].apply(lambda x: age_group_mapping[x[:2]])\n",
    "dataset['Gender'] = dataset['Category'].apply(lambda x: int(x[-1:] == 'F'))\n",
    "\n",
    "## Remove unneccesery fields\n",
    "dataset.pop('Category')\n",
    "dataset.pop('Time')\n",
    "\n",
    "## Print first 10 rows\n",
    "dataset.head(10)"
   ]
  },
  {
   "cell_type": "markdown",
   "metadata": {},
   "source": [
    "## Save the clean dataset"
   ]
  },
  {
   "cell_type": "code",
   "execution_count": 6,
   "metadata": {
    "ExecuteTime": {
     "end_time": "2019-04-02T02:20:09.596292Z",
     "start_time": "2019-04-02T02:20:09.432796Z"
    }
   },
   "outputs": [],
   "source": [
    "dataset.to_csv('../../datasets/utmb.csv', index=False)"
   ]
  }
 ],
 "metadata": {
  "kernelspec": {
   "display_name": "Python 3",
   "language": "python",
   "name": "python3"
  },
  "language_info": {
   "codemirror_mode": {
    "name": "ipython",
    "version": 3
   },
   "file_extension": ".py",
   "mimetype": "text/x-python",
   "name": "python",
   "nbconvert_exporter": "python",
   "pygments_lexer": "ipython3",
   "version": "3.5.2"
  },
  "varInspector": {
   "cols": {
    "lenName": 16,
    "lenType": 16,
    "lenVar": 40
   },
   "kernels_config": {
    "python": {
     "delete_cmd_postfix": "",
     "delete_cmd_prefix": "del ",
     "library": "var_list.py",
     "varRefreshCmd": "print(var_dic_list())"
    },
    "r": {
     "delete_cmd_postfix": ") ",
     "delete_cmd_prefix": "rm(",
     "library": "var_list.r",
     "varRefreshCmd": "cat(var_dic_list()) "
    }
   },
   "types_to_exclude": [
    "module",
    "function",
    "builtin_function_or_method",
    "instance",
    "_Feature"
   ],
   "window_display": false
  }
 },
 "nbformat": 4,
 "nbformat_minor": 1
}
