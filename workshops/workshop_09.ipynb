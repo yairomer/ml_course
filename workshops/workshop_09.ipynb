{
 "cells": [
  {
   "cell_type": "markdown",
   "metadata": {},
   "source": [
    "<center><h1 class=\"background-title\">Workshop 09 - Background<br>MLP & PyTorch</h1></center>"
   ]
  },
  {
   "cell_type": "markdown",
   "metadata": {},
   "source": [
    "## Artificial Neural Networks (ANN) \n",
    "\n",
    "ANNs are mathematical models which are inspired by biological neural networks. Like the biological networks, they are composed of a network of simple units, each performing a simple mathematical operation, which are connected together in order to model complex functions. These units are usually referred to as artificial neurons.\n",
    "\n",
    "<center><img src=\"../media/diagrams/networks/ann.png\" height=\"300px\" style=\"height:300px\"/></center>\n",
    "\n",
    "Commonly these neurons are selected to be a linear function of the input followed by a non-linear function:\n",
    "\n",
    "$$\n",
    "h\\left(\\boldsymbol{x}\\ ;\\boldsymbol{\\theta},b\\right)=\\varphi\\left(\\boldsymbol{\\theta}^T\\boldsymbol{x}+b\\right)\n",
    "$$\n",
    "\n",
    "Where $\\varphi$ is the non-linear function, called the activation function. Some commonly used activation functions are:\n",
    "\n",
    "- The logistic function. Also commonly referred to as a sigmoid: $\\varphi\\left(x\\right)=\\frac{1}{1+e^-x}$\n",
    "- Hyperbolic tangent: $\\varphi\\left(x\\right)=\\tanh\\left(x/2\\right)$\n",
    "- Rectifier function (known as ReLU (Rectified Linear Unit): $\\varphi\\left(x\\right)=\\max\\left(x,0\\right)$\n",
    "\n",
    "The way in which the neurons are connected is usually called the architecture of the network. We can distinguish between two types of networks:\n",
    "- **Feed-forward networks**: in which data in the network flow in a directed manner, from the input to the output without creating any loops.\n",
    "- **recurrent networks**: In which the architectures might contain cyclic paths. These networks are outside the scope of this course.\n",
    "\n",
    "Units which are not connected directly to the output, i.e., are not at the end of the network, are called **hidden units**. A network which contains routes that paths which connect the input to the output through multiple hidden layers are usually referred to as **Deep Neural Networks (DNN)**.\n",
    "\n",
    "In the context of machine learning, we will try to adjust the parameters of the network based on the collected data. In feed-forward networks, this is usually done using gradients descent methods which are calculated using **back propagation**.  "
   ]
  },
  {
   "cell_type": "markdown",
   "metadata": {},
   "source": [
    "## Multilayer Perceptron (MLP)\n",
    "\n",
    "The most basic model for a network which contains hidden units is the **Multilayer Perceptron (MLP)**. In this model, the neurons are organized in at least two layers, where each neuron is fed by the outputs of **all** the neurons in the previous layer. This property is referred to as a network with **fully connected layers**.\n",
    "\n",
    "<center><img src=\"../media/diagrams/networks/mlp.png\" height=\"300px\" style=\"height:300px\"/></center>\n",
    "\n",
    "An MLP network is defined by:\n",
    "\n",
    "- The number of layers.\n",
    "- The number of neurons in each layer.\n",
    "- The activation functions of the neurons."
   ]
  },
  {
   "cell_type": "markdown",
   "metadata": {},
   "source": [
    "## Naming Differences\n",
    "\n",
    "- Mathematically, the name **loss function** is broadly used to describe any objective function which is to be minimized. In this course, we have used this term to describe the penalty we get for a single prediction, $l\\left(\\hat{y},y\\right)$. We have used the terms **risk/cost functions** as the mean, or empirical mean, of the loss function. In the context of deep learning people commonly use the term loss function in it's broader meaning, and use it to describe either the risk/cost functions themselves or to the optimization's objective function in general.\n",
    "\n",
    "- Mathematically, the name **sigmoid** refers to a range of S-shaped function. In the context of deep learning, this name usually refers to the logistic function. (To be more precisely, a sigmoid function is a bounded, differentiable, real function that is defined for all real input values and has a non-negative derivative at each point).\n"
   ]
  },
  {
   "cell_type": "markdown",
   "metadata": {},
   "source": [
    "<center><h1 class=\"workshop-title\">Workshop 09<br>MLP & PyTorch</h1></center>"
   ]
  },
  {
   "cell_type": "markdown",
   "metadata": {},
   "source": [
    "## In this workshop\n",
    "\n",
    "This workshop will be a more technical workshop in which we will mainly focus on the **PyTorch** framework."
   ]
  },
  {
   "cell_type": "markdown",
   "metadata": {},
   "source": [
    "## Deep Learning Frameworks\n",
    "\n",
    "With the rise in popularity of deep learning, a lot of great frameworks are currently actively maintained and developed continuously. The majority of them come with an open source license. Use of these frameworks makes working with deep neural networks much more simpler and efficient, mostly in terms of implementation. \n",
    "\n",
    "Here is a partial list of some of the currently popular frameworks:\n",
    "\n",
    "- **[TensorFlow](https://www.tensorflow.org/)**: A python package which was initially developed and is backed by Google. It is currently the most popular framework.\n",
    "\n",
    "- **[PyTorch](https://pytorch.org/)**: A python framework which is based on the older [Torch](http://torch.ch/) framework, which was written in [LUA](https://en.wikipedia.org/wiki/Lua_(programming_language)). It was initially developed and is backed by Facebook. It is a slightly younger framework which is rapidly gaining popularity. Currently, it is almost as popular as Tensorflow.\n",
    "\n",
    "- **[Caffe](https://caffe.berkeleyvision.org/) & [Caffe2](https://caffe2.ai/)**: Has support for C, c++, Python, and Matlab. Was developed at Berkeley and is currently maintained by Facebook. It is a relatively older framework and is quite popular although it seems as if it's popularity is decreasing.\n",
    "\n",
    "- **[Keras](https://keras.io/)**: A Python framework which is built in top of other frameworks, such as Tensorflow, and is intended to provide a more \"human-friendly\" interface. It operates at a higher level of abstraction and provides less control over the fine details of the process.\n",
    "\n",
    "- **[fast.ai](https://www.fast.ai/)**: A recently released framework which is built around PyTorch and is designed to incorporate the common best practices into the library. The framework is receiving a lot of positive feedback and is starting gaining popularity.\n",
    "\n",
    "- **[Matlab](https://www.mathworks.com/help/deeplearning/getting-started-with-deep-learning-toolbox.html)**: Recently, Matlab has published a deep learning toolbox for working with deep neural networks.\n",
    "\n",
    "In this course, we have decided to use PyTorch over Tensorflow, since it uses an intuitive NumPy-like interface, which makes it easier to get started with."
   ]
  },
  {
   "cell_type": "markdown",
   "metadata": {},
   "source": [
    "## GPUs\n",
    "\n",
    "One of the main things which boosted the use of deep neural networks is the advances in GPUs technology in recent years. Using gradient descent to learning the parameters of a network with a large number of parameters, based on large datasets, can be very slow. By using GPUs to parallelize the process of passing data through the network and the process of the back propagation calculation, we can significantly reduce the learning time. \n",
    "\n",
    "All of the above frameworks support performing most of the calculation to the GPU."
   ]
  },
  {
   "cell_type": "markdown",
   "metadata": {},
   "source": [
    "## PyTorch Basics"
   ]
  },
  {
   "cell_type": "markdown",
   "metadata": {},
   "source": [
    "### PyTorch Tutorials\n",
    "\n",
    "This workshop only scratches the surface of PyTorch and, it is recommended to take some time to better understand the framework before working with it.\n",
    "\n",
    "As part of its documentation, PyTorch has some great tutorial on his [website](https://pytorch.org/tutorials/beginner/blitz/autograd_tutorial.html). The \"60 Minute Blitz\" along with the \"Learning PyTorch with Examples\" provides a great starting point."
   ]
  },
  {
   "cell_type": "markdown",
   "metadata": {},
   "source": [
    "### Tensors\n",
    "\n",
    "The basic PyTorch object is the tensor with has a very similar interface to that of a NumPy array.\n",
    "\n",
    "Let us look at the 3 following vectors and the function operating on them:\n",
    "\n",
    "$$\n",
    "\\boldsymbol{x}_1=\\left(1,2\\right)^T\\\\\n",
    "\\boldsymbol{x}_2=\\left(3,4\\right)^T\\\\\n",
    "\\boldsymbol{x}_3=\\left(5,6\\right)^T\\\\\n",
    "y=\\left(\\boldsymbol{x}_1+2\\boldsymbol{x}_2\\right)^T\\boldsymbol{x}_3/5\n",
    "$$\n",
    "\n",
    "The following code imports the PyTorch package, defines the 3 tensors and calculates $y$:"
   ]
  },
  {
   "cell_type": "code",
   "execution_count": null,
   "metadata": {},
   "outputs": [
    {
     "name": "stdout",
     "output_type": "stream",
     "text": [
      "x1 = tensor([1., 2.])\n",
      "x2 = tensor([3., 4.])\n",
      "x3 = tensor([3., 4.])\n",
      "y = 19.0\n"
     ]
    }
   ],
   "source": [
    "import torch  ## importing PyTorch\n",
    "\n",
    "## Defining the x's\n",
    "x1 = torch.tensor([1.,2.])\n",
    "x2 = torch.tensor([3.,4.])\n",
    "x3 = torch.tensor([5.,6.])\n",
    "\n",
    "\n",
    "## Calculating y\n",
    "y = torch.matmul((x1 + 2*x2), x3) / 5\n",
    "\n",
    "## Printing Everything\n",
    "print('x1 = {}'.format(x1))\n",
    "print('x2 = {}'.format(x2))\n",
    "print('x3 = {}'.format(x2))\n",
    "print('y = {}'.format(y))"
   ]
  },
  {
   "cell_type": "markdown",
   "metadata": {},
   "source": [
    "### A Function as a Graph\n",
    "\n",
    "To better understand how PyTorch calculated the gradients using back propagation, let us draw the above function as a graph which consists of nodes of simple operations:\n",
    "\n",
    "<center><img src=\"../media/diagrams/networks/graph.png\" height=\"300px\" style=\"height:300px\"/></center>\n",
    "\n",
    "\n",
    "Here $\\left<,\\right>$ is a dot product between vectors.\n",
    "\n",
    "The following code re-calculates $y$, this time using intermediate variables, $z_i$'s. \n",
    "\n",
    "*We are implementing the function this way only in order to understand the framework. This is unneeded in a general case.*"
   ]
  },
  {
   "cell_type": "code",
   "execution_count": null,
   "metadata": {},
   "outputs": [
    {
     "name": "stdout",
     "output_type": "stream",
     "text": [
      "z1 = tensor([6., 8.])\n",
      "z2 = tensor([ 7., 10.])\n",
      "z3 = tensor(95.)\n"
     ]
    }
   ],
   "source": [
    "z1 = x2 * 2\n",
    "z2 = x1 + z1\n",
    "z3 = torch.matmul(z2, x3)\n",
    "y = z3 / 5\n",
    "\n",
    "print('z1 = {}'.format(str(z1)))\n",
    "print('z2 = {}'.format(str(z2)))\n",
    "print('z3 = {}'.format(str(z3)))"
   ]
  },
  {
   "cell_type": "markdown",
   "metadata": {},
   "source": [
    "### Autograd - The Forward Graph\n",
    "\n",
    "One of the features which makes PyTorch very powerful, is it's ability to automatically calculate the gradients. It dose so by automatically calculating the forward and back graphs which it can then use to calculate the gradients. \n",
    "\n",
    "When performing calculations with tensors, we can tell PyTorch  to build the forward graph (the function's graph) based on the calculation we are performing. In order to do, so we need to set the **requires_grad** flag of the input variables to true. This flag exists for any tensor, and it set  to false by default set to false.\n",
    "\n",
    "The following code re-calculates the function, but this time with the requires_grad flag set to true for 2 of the three input variable."
   ]
  },
  {
   "cell_type": "code",
   "execution_count": null,
   "metadata": {},
   "outputs": [
    {
     "name": "stdout",
     "output_type": "stream",
     "text": [
      "x1 = tensor([1., 2.], requires_grad=True)\n",
      "x2 = tensor([3., 4.])\n",
      "x3 = tensor([5., 6.], requires_grad=True)\n",
      "z1 = tensor([6., 8.])\n",
      "z2 = tensor([ 7., 10.], grad_fn=<AddBackward0>)\n",
      "z3 = tensor(95., grad_fn=<DotBackward>)\n",
      "y = tensor(19., grad_fn=<DivBackward0>)\n"
     ]
    }
   ],
   "source": [
    "x1 = torch.tensor([1.,2.], requires_grad=True)\n",
    "x2 = torch.tensor([3.,4.])\n",
    "x3 = torch.tensor([5.,6.], requires_grad=True)\n",
    "\n",
    "z1 = x2 * 2\n",
    "z2 = x1 + z1\n",
    "z3 = torch.matmul(z2, x3)\n",
    "y = z3 / 5\n",
    "\n",
    "print('x1 = {}'.format(str(x1)))\n",
    "print('x2 = {}'.format(str(x2)))\n",
    "print('x3 = {}'.format(str(x3)))\n",
    "print('z1 = {}'.format(str(z1)))\n",
    "print('z2 = {}'.format(str(z2)))\n",
    "print('z3 = {}'.format(str(z3)))\n",
    "print('y = {}'.format(str(y)))"
   ]
  },
  {
   "cell_type": "markdown",
   "metadata": {},
   "source": [
    "In this run PyTorch has created the forward graph for the relevant paths (startnig at $\\boldsymbol{x}_1$ or $\\boldsymbol{x}_3$). We can see that the relevant tensors have a **grad_fn** attached to them which tells PyTorch how they were created.\n",
    "\n",
    "for example, the y variable which is created by dividing $\\boldsymbol{z}_3$ by 5 has a grad_fn of type **DivBackward** which corresponding to a division."
   ]
  },
  {
   "cell_type": "code",
   "execution_count": null,
   "metadata": {},
   "outputs": [
    {
     "name": "stdout",
     "output_type": "stream",
     "text": [
      "y was created using the following node: <DivBackward0 object at 0x7ff03c4514e0>\n"
     ]
    }
   ],
   "source": [
    "print('y was created using the following node: {}'.format(y.grad_fn))"
   ]
  },
  {
   "cell_type": "markdown",
   "metadata": {},
   "source": [
    "We can further traverse the graph by looking at the property of **next_function** of grad_fn to see what were the operations which created the inputs to the division node (which in our case are the operations creating $\\boldsymbol{z}_3$ and the operations creating 5, which are none)"
   ]
  },
  {
   "cell_type": "code",
   "execution_count": null,
   "metadata": {},
   "outputs": [
    {
     "name": "stdout",
     "output_type": "stream",
     "text": [
      "y's inputs were created using the following nodes:\n",
      "    ((<DotBackward object at 0x7ff03c4442e8>, 0), (None, 0))\n",
      "\n",
      "Check that this node is the same node which created z3:\n",
      "    True\n"
     ]
    }
   ],
   "source": [
    "print('y\\'s inputs were created using the following nodes:')\n",
    "print('    {}'.format(y.grad_fn.next_functions))\n",
    "print()\n",
    "print('Check that this node is the same node which created z3:')\n",
    "print('    {}'.format(y.grad_fn.next_functions[0][0] is z3.grad_fn))\n"
   ]
  },
  {
   "cell_type": "markdown",
   "metadata": {},
   "source": [
    "The full graph is"
   ]
  },
  {
   "cell_type": "code",
   "execution_count": null,
   "metadata": {},
   "outputs": [
    {
     "name": "stdout",
     "output_type": "stream",
     "text": [
      "y\n",
      "└ <DivBackward0 object at 0x7fefc4848c50>\n",
      "  ├ None\n",
      "  └ <DotBackward object at 0x7fefc4848c88>\n",
      "    ├ <AccumulateGrad object at 0x7fefc4848cf8>\n",
      "    └ <AddBackward0 object at 0x7fefc4848c88>\n",
      "      ├ <AccumulateGrad object at 0x7fefc4848cc0>\n",
      "      └ None\n"
     ]
    }
   ],
   "source": [
    "print('y')\n",
    "print('└ {}'.format(y.grad_fn))\n",
    "print('  ├ {}'.format(y.grad_fn.next_functions[1][0]))\n",
    "print('  └ {}'.format(y.grad_fn.next_functions[0][0]))\n",
    "print('    ├ {}'.format(y.grad_fn.next_functions[0][0].next_functions[1][0]))\n",
    "print('    └ {}'.format(y.grad_fn.next_functions[0][0].next_functions[0][0]))\n",
    "print('      ├ {}'.format(y.grad_fn.next_functions[0][0].next_functions[0][0].next_functions[0][0]))\n",
    "print('      └ {}'.format(y.grad_fn.next_functions[0][0].next_functions[0][0].next_functions[1][0]))"
   ]
  },
  {
   "cell_type": "markdown",
   "metadata": {},
   "source": [
    "*AccumulateGrad* is a source point of the graph. Note that the path from $\\boldsymbol{x}_2$ to the sum is missing (the second input to the sum is *None*), this is due to the fact that we did not set $\\boldsymbol{x}_2$'s *requires_grad* flag to true."
   ]
  },
  {
   "cell_type": "markdown",
   "metadata": {},
   "source": [
    "### Autograd - The Backward Graph\n",
    "\n",
    "Once we have the forward graph, we can ask PyTorch to calculate and evaluate the backward graph. This is done by calling the **backward** function of the output tensor of the graph.\n",
    "\n",
    "For the above function, the backward graph is the following graph:\n",
    "\n",
    "<center><img src=\"../media/diagrams/networks/back.png\" height=\"300px\" style=\"height:300px\"/></center>\n",
    "\n",
    "We will not elaborate on how this graph is constructed and will leave this subject to the tutorials.\n",
    "\n",
    "Let us calculate the gradients for the given function."
   ]
  },
  {
   "cell_type": "code",
   "execution_count": null,
   "metadata": {},
   "outputs": [
    {
     "name": "stdout",
     "output_type": "stream",
     "text": [
      "x_1 gradient before: None\n",
      "x_2 gradient before: None\n",
      "x_3 gradient before: None\n",
      "\n",
      "x_1 gradient after: tensor([1.0000, 1.2000])\n",
      "x_2 gradient after: None\n",
      "x_3 gradient after: tensor([1.4000, 2.0000])\n"
     ]
    }
   ],
   "source": [
    "print('x_1 gradient before: {}'.format(x1.grad))\n",
    "print('x_2 gradient before: {}'.format(x2.grad))\n",
    "print('x_3 gradient before: {}'.format(x3.grad))\n",
    "\n",
    "## Calcualte and evaluate the backward pass\n",
    "y.backward()\n",
    "print('')\n",
    "\n",
    "print('x_1 gradient after: {}'.format(x1.grad))\n",
    "print('x_2 gradient after: {}'.format(x2.grad))\n",
    "print('x_3 gradient after: {}'.format(x3.grad))"
   ]
  },
  {
   "cell_type": "markdown",
   "metadata": {},
   "source": [
    "### Gradient Descent\n",
    "\n",
    "By using PyTorch's autograd functionality, we can now more easily perform gradient descent on arbitrary functions. Let us try and use PyTorch to solve this simple optimization problem:\n",
    "\n",
    "$$\n",
    "x^*=\\underset{x}{\\arg\\min}\\ x^2\n",
    "$$\n",
    "\n",
    "PyTorch has built-in classes which can perform the gradient descent optimization for us. For example, the basic gradient descent optimization can be fount at **[torch.optim.SGD](https://pytorch.org/docs/stable/optim.html?highlight=sgd#torch.optim.SGD)**.\n",
    "\n",
    "To use these optimizers we need to first initialize them with the optimization parameters and the list of tensors for with we would like to optimize. We can then call the optimizer's **step** function for performing update steps after calculating the gradients.\n",
    "\n",
    "**Important**: In addition, it is necessary to also call the optimizer's **zero_grads** function before each backward step, since by default PyTorch accumulates the gradients as long as they are not cleared.\n",
    "\n",
    "We will start with $x=1$, use a learning rate of $0.7$ and take 10 gradient steps:"
   ]
  },
  {
   "cell_type": "code",
   "execution_count": null,
   "metadata": {},
   "outputs": [
    {
     "name": "stdout",
     "output_type": "stream",
     "text": [
      "Step 0:, x and it's gradient before the update step:   1.00, 2.00\n",
      "Step 1:, x and it's gradient before the update step:   -0.40, -0.80\n",
      "Step 2:, x and it's gradient before the update step:   0.16, 0.32\n",
      "Step 3:, x and it's gradient before the update step:   -0.06, -0.13\n",
      "Step 4:, x and it's gradient before the update step:   0.03, 0.05\n",
      "Step 5:, x and it's gradient before the update step:   -0.01, -0.02\n",
      "Step 6:, x and it's gradient before the update step:   0.00, 0.01\n",
      "Step 7:, x and it's gradient before the update step:   -0.00, -0.00\n",
      "Step 8:, x and it's gradient before the update step:   0.00, 0.00\n",
      "Step 9:, x and it's gradient before the update step:   -0.00, -0.00\n"
     ]
    }
   ],
   "source": [
    "import torch.optim as optim  ## Import the optimization module of the package\n",
    "\n",
    "x = torch.tensor(1, dtype=torch.float, requires_grad=True)  ## Inizitalize x\n",
    "opt = optim.SGD([x], lr=0.7)  ## Initizalie the optimizer\n",
    "\n",
    "for i in range(10):\n",
    "    opt.zero_grad()  ## Clean up previous gradients\n",
    "    y = x ** 2  ## Forward pass\n",
    "    y.backward()  ## Backward pass\n",
    "\n",
    "    print('Step {}:, x and it\\'s gradient before the update step:   {:.2f}, {:.2f}'.format(i, float(x), float(x.grad)))\n",
    "    opt.step()  ## Perform the update step"
   ]
  },
  {
   "cell_type": "markdown",
   "metadata": {},
   "source": [
    "## Using the GPU\n",
    "\n",
    "All calculations in PYTorch can be performed either on the CPU or the GPU. We can pass a tensor to the GPU by running:"
   ]
  },
  {
   "cell_type": "code",
   "execution_count": null,
   "metadata": {},
   "outputs": [
    {
     "name": "stdout",
     "output_type": "stream",
     "text": [
      "y=6.0 is on: cuda:0\n"
     ]
    }
   ],
   "source": [
    "x1 = torch.tensor(1.).cuda()\n",
    "## or\n",
    "x2 = torch.tensor(2.).to('cuda:0')  ## More usful when you have more then 1 gpu\n",
    "## or\n",
    "x3 = torch.tensor(3., device='cuda:0')\n",
    "\n",
    "## This calculation will be perfomed on the GPU\n",
    "y = x1 + x2 + x3\n",
    "\n",
    "print('y={} is on: {}'.format(float(y), y.device))"
   ]
  },
  {
   "cell_type": "markdown",
   "metadata": {},
   "source": [
    "## Defining a Network Object\n",
    "\n",
    "The more common way to use PyTorch is to define a network object. This is done by creating a class which is a subclass of the basic **torch.nn.Model** class, and implementing the **__init__** and **forward** functions for in it.\n",
    "\n",
    "Let us solve a simple linear regression problem:\n",
    "\n",
    "$$\n",
    "y = \\theta_1\\cdot x_1 + \\theta_2\\cdot x_2\n",
    "$$\n",
    "\n",
    "With an $L2$ loss function.\n",
    "\n",
    "To generate the data, we shall use:\n",
    "\n",
    "$$\n",
    "y = 2\\cdot x_1 - x_2 + n \\\\\n",
    "X_1\\sim U\\left(0,1\\right) \\\\\n",
    "X_2\\sim U\\left(0,1\\right) \\\\\n",
    "N\\sim N\\left(0,1\\right) \\\\\n",
    "$$"
   ]
  },
  {
   "cell_type": "code",
   "execution_count": null,
   "metadata": {},
   "outputs": [
    {
     "name": "stdout",
     "output_type": "stream",
     "text": [
      "Step 0:, theta: 0.00, 0.00\n",
      "Step 1:, theta: 0.32, 0.12\n",
      "Step 2:, theta: 0.54, 0.14\n",
      "Step 3:, theta: 0.69, 0.10\n",
      "Step 4:, theta: 0.81, 0.04\n",
      "Step 5:, theta: 0.91, -0.03\n",
      "Step 6:, theta: 1.00, -0.11\n",
      "Step 7:, theta: 1.08, -0.18\n",
      "Step 8:, theta: 1.15, -0.25\n",
      "Step 9:, theta: 1.21, -0.31\n"
     ]
    }
   ],
   "source": [
    "## Generate the data\n",
    "## =================\n",
    "import numpy as np\n",
    "rand_gen = np.random.RandomState(0)\n",
    "x = rand_gen.rand(1000, 2)\n",
    "y = x @ np.array([2, -1]) + rand_gen.randn(1000)\n",
    "\n",
    "## Convert NumPy arrays to tensors on GPU\n",
    "## ======================================\n",
    "x = torch.tensor(x).float().cuda()\n",
    "y = torch.tensor(y).float().cuda()\n",
    "\n",
    "## Define the network \n",
    "## ==================\n",
    "import torch.nn as nn\n",
    "\n",
    "class LinReg(nn.Module):\n",
    "    def __init__(self):\n",
    "        ## The following line should appear in the beginning of the __init__ function.\n",
    "        ## It is related to inheritance, and we will not elaborate on this here.\n",
    "        super(LinReg, self).__init__()\n",
    "        \n",
    "        self.theta = nn.Parameter(data=torch.tensor([0., 0.]), requires_grad=True)\n",
    "        \n",
    "    def forward(self, x):\n",
    "        y = torch.matmul(x, self.theta)\n",
    "        return y\n",
    "\n",
    "lin_reg = LinReg().cuda()\n",
    "\n",
    "    \n",
    "## Run the optimization\n",
    "## ====================\n",
    "opt = optim.SGD(lin_reg.parameters(), lr=1.)  ## Initizalie the optimizer\n",
    "\n",
    "for i in range(10):\n",
    "    opt.zero_grad()  ## Clean up previous gradients\n",
    "    \n",
    "    ## Forward pass\n",
    "    y_hat = lin_reg(x)\n",
    "    loss = torch.mean((y - y_hat) ** 2) ** 0.5\n",
    "    ## Backward pass\n",
    "    loss.backward()\n",
    "\n",
    "    print('Step {}:, theta: {:.2f}, {:.2f}'.format(i, float(lin_reg.theta[0]), float(lin_reg.theta[1])))\n",
    "    \n",
    "    opt.step()  ## Perform the update step"
   ]
  },
  {
   "cell_type": "markdown",
   "metadata": {},
   "source": [
    "## Building on Existing Modules\n",
    "\n",
    "PyTorch comes with existing modules such an MxN linear operator, a logistic function etc. These modules also have their parameters already build in into them. PyTorch also defines some common loss functions such $L1$, $L2$, etc. \n",
    "\n",
    "Let us re-write our linear regression model and the optimization using the following two objects:\n",
    "\n",
    "- **[torch.nn.Linear](https://pytorch.org/docs/stable/nn.html#linear)**: A linear operator with the linear transformation coefficients as weights with optional bias term.\n",
    "- **[torch.nn.MSELoss](https://pytorch.org/docs/stable/nn.html#torch.nn.MSELoss)**: An MSE risk term."
   ]
  },
  {
   "cell_type": "code",
   "execution_count": null,
   "metadata": {},
   "outputs": [
    {
     "name": "stdout",
     "output_type": "stream",
     "text": [
      "Step 0:, theta: 0.34, -0.45\n",
      "Step 1:, theta: 0.61, -0.34\n",
      "Step 2:, theta: 0.63, -0.47\n",
      "Step 3:, theta: 0.75, -0.50\n",
      "Step 4:, theta: 0.82, -0.57\n",
      "Step 5:, theta: 0.90, -0.62\n",
      "Step 6:, theta: 0.96, -0.67\n",
      "Step 7:, theta: 1.03, -0.71\n",
      "Step 8:, theta: 1.09, -0.75\n",
      "Step 9:, theta: 1.14, -0.79\n"
     ]
    }
   ],
   "source": [
    "class LinReg2(nn.Module):\n",
    "    def __init__(self):\n",
    "        super(LinReg2, self).__init__()\n",
    "        self.linear = nn.Linear(2, 1)\n",
    "        \n",
    "    def forward(self, x):\n",
    "        y = self.linear(x)\n",
    "        return y.view(-1)  ## Reshape x to make it a 1D tensor (vector)\n",
    "\n",
    "lin_reg = LinReg2().cuda()\n",
    "\n",
    "## Run the optimization\n",
    "## ====================\n",
    "opt = optim.SGD(lin_reg.parameters(), lr=1.)  ## Initizalie the optimizer\n",
    "loss_func = nn.MSELoss()\n",
    "\n",
    "for i in range(10):\n",
    "    opt.zero_grad()  ## Clean up previous gradients\n",
    "    \n",
    "    ## Forward pass\n",
    "    y_hat = lin_reg(x)\n",
    "    loss = loss_func(y_hat, y) ** 0.5\n",
    "    ## Backward pass\n",
    "    loss.backward()\n",
    "\n",
    "    print('Step {}:, theta: {:.2f}, {:.2f}'.format(i, float(lin_reg.linear.weight[0, 0]), float(lin_reg.linear.weight[0, 1])))\n",
    "    \n",
    "    opt.step()  ## Perform the update step"
   ]
  },
  {
   "cell_type": "markdown",
   "metadata": {},
   "source": [
    "## Same Problem From last workshop\n",
    "\n",
    "Let us go back now to the problem from last workshop and solve it using PyTorch.\n",
    "\n",
    "### 🦠 Dataset: \n",
    "\n",
    "Breast Cancer Wisconsin\n",
    "\n",
    "### ❓️ Problem: \n",
    "\n",
    "Predict the Correct Diagnostic"
   ]
  },
  {
   "cell_type": "markdown",
   "metadata": {},
   "source": [
    "## 🛠️ Preparations"
   ]
  },
  {
   "cell_type": "code",
   "execution_count": null,
   "metadata": {},
   "outputs": [],
   "source": [
    "# Importing packages\n",
    "import numpy as np  # Numerical package (mainly multi-dimensional arrays and linear algebra)\n",
    "import pandas as pd  # A package for working with data frames\n",
    "import matplotlib.pyplot as plt  # A plotting package\n",
    "\n",
    "## Setup matplotlib to output figures into the notebook\n",
    "## - To make the figures interactive (zoomable, tooltip, etc.) use \"\"%matplotlib notebook\" instead\n",
    "%matplotlib inline\n",
    "\n",
    "plt.rcParams['figure.figsize'] = (5.0, 5.0)  # Set default plot's sizes\n",
    "plt.rcParams['figure.dpi'] =120  # Set default plot's dpi (increase fonts' size)\n",
    "plt.rcParams['axes.grid'] = True  # Show grid by default in figures\n",
    "\n",
    "## A function to add Latex (equations) to output which works also in Google Colabrtroy\n",
    "## In a regular notebook this could simply be replaced with \"display(Markdown(x))\"\n",
    "from IPython.display import HTML\n",
    "def print_math(x):  # Define a function to preview markdown outputs as HTML using mathjax\n",
    "    display(HTML(''.join(['<p><script type=\"text/x-mathjax-config\">MathJax.Hub.Config({tex2jax: {inlineMath: [[\\'$\\',\\'$\\'], [\\'\\\\\\\\(\\',\\'\\\\\\\\)\\']]}});</script><script src=\\'https://cdnjs.cloudflare.com/ajax/libs/mathjax/2.7.3/latest.js?config=TeX-AMS_CHTML\\'></script>',x,'</p>'])))"
   ]
  },
  {
   "cell_type": "markdown",
   "metadata": {},
   "source": [
    "## 🕵️ Data Inspection"
   ]
  },
  {
   "cell_type": "code",
   "execution_count": null,
   "metadata": {},
   "outputs": [
    {
     "data": {
      "text/html": [
       "<p><script type=\"text/x-mathjax-config\">MathJax.Hub.Config({tex2jax: {inlineMath: [['$','$'], ['\\\\(','\\\\)']]}});</script><script src='https://cdnjs.cloudflare.com/ajax/libs/mathjax/2.7.3/latest.js?config=TeX-AMS_CHTML'></script>Number of rows in the dataset: $N=569$</p>"
      ],
      "text/plain": [
       "<IPython.core.display.HTML object>"
      ]
     },
     "metadata": {},
     "output_type": "display_data"
    },
    {
     "data": {
      "text/html": [
       "<div>\n",
       "<style scoped>\n",
       "    .dataframe tbody tr th:only-of-type {\n",
       "        vertical-align: middle;\n",
       "    }\n",
       "\n",
       "    .dataframe tbody tr th {\n",
       "        vertical-align: top;\n",
       "    }\n",
       "\n",
       "    .dataframe thead th {\n",
       "        text-align: right;\n",
       "    }\n",
       "</style>\n",
       "<table border=\"1\" class=\"dataframe\">\n",
       "  <thead>\n",
       "    <tr style=\"text-align: right;\">\n",
       "      <th></th>\n",
       "      <th>id</th>\n",
       "      <th>diagnosis</th>\n",
       "      <th>radius_mean</th>\n",
       "      <th>texture_mean</th>\n",
       "      <th>perimeter_mean</th>\n",
       "      <th>area_mean</th>\n",
       "      <th>smoothness_mean</th>\n",
       "      <th>compactness_mean</th>\n",
       "      <th>concavity_mean</th>\n",
       "      <th>concave points_mean</th>\n",
       "      <th>...</th>\n",
       "      <th>radius_worst</th>\n",
       "      <th>texture_worst</th>\n",
       "      <th>perimeter_worst</th>\n",
       "      <th>area_worst</th>\n",
       "      <th>smoothness_worst</th>\n",
       "      <th>compactness_worst</th>\n",
       "      <th>concavity_worst</th>\n",
       "      <th>concave points_worst</th>\n",
       "      <th>symmetry_worst</th>\n",
       "      <th>fractal_dimension_worst</th>\n",
       "    </tr>\n",
       "  </thead>\n",
       "  <tbody>\n",
       "    <tr>\n",
       "      <th>0</th>\n",
       "      <td>842302</td>\n",
       "      <td>M</td>\n",
       "      <td>17.99</td>\n",
       "      <td>10.38</td>\n",
       "      <td>122.80</td>\n",
       "      <td>1001.0</td>\n",
       "      <td>0.11840</td>\n",
       "      <td>0.27760</td>\n",
       "      <td>0.30010</td>\n",
       "      <td>0.14710</td>\n",
       "      <td>...</td>\n",
       "      <td>25.38</td>\n",
       "      <td>17.33</td>\n",
       "      <td>184.60</td>\n",
       "      <td>2019.0</td>\n",
       "      <td>0.1622</td>\n",
       "      <td>0.6656</td>\n",
       "      <td>0.7119</td>\n",
       "      <td>0.2654</td>\n",
       "      <td>0.4601</td>\n",
       "      <td>0.11890</td>\n",
       "    </tr>\n",
       "    <tr>\n",
       "      <th>1</th>\n",
       "      <td>842517</td>\n",
       "      <td>M</td>\n",
       "      <td>20.57</td>\n",
       "      <td>17.77</td>\n",
       "      <td>132.90</td>\n",
       "      <td>1326.0</td>\n",
       "      <td>0.08474</td>\n",
       "      <td>0.07864</td>\n",
       "      <td>0.08690</td>\n",
       "      <td>0.07017</td>\n",
       "      <td>...</td>\n",
       "      <td>24.99</td>\n",
       "      <td>23.41</td>\n",
       "      <td>158.80</td>\n",
       "      <td>1956.0</td>\n",
       "      <td>0.1238</td>\n",
       "      <td>0.1866</td>\n",
       "      <td>0.2416</td>\n",
       "      <td>0.1860</td>\n",
       "      <td>0.2750</td>\n",
       "      <td>0.08902</td>\n",
       "    </tr>\n",
       "    <tr>\n",
       "      <th>2</th>\n",
       "      <td>84300903</td>\n",
       "      <td>M</td>\n",
       "      <td>19.69</td>\n",
       "      <td>21.25</td>\n",
       "      <td>130.00</td>\n",
       "      <td>1203.0</td>\n",
       "      <td>0.10960</td>\n",
       "      <td>0.15990</td>\n",
       "      <td>0.19740</td>\n",
       "      <td>0.12790</td>\n",
       "      <td>...</td>\n",
       "      <td>23.57</td>\n",
       "      <td>25.53</td>\n",
       "      <td>152.50</td>\n",
       "      <td>1709.0</td>\n",
       "      <td>0.1444</td>\n",
       "      <td>0.4245</td>\n",
       "      <td>0.4504</td>\n",
       "      <td>0.2430</td>\n",
       "      <td>0.3613</td>\n",
       "      <td>0.08758</td>\n",
       "    </tr>\n",
       "    <tr>\n",
       "      <th>3</th>\n",
       "      <td>84348301</td>\n",
       "      <td>M</td>\n",
       "      <td>11.42</td>\n",
       "      <td>20.38</td>\n",
       "      <td>77.58</td>\n",
       "      <td>386.1</td>\n",
       "      <td>0.14250</td>\n",
       "      <td>0.28390</td>\n",
       "      <td>0.24140</td>\n",
       "      <td>0.10520</td>\n",
       "      <td>...</td>\n",
       "      <td>14.91</td>\n",
       "      <td>26.50</td>\n",
       "      <td>98.87</td>\n",
       "      <td>567.7</td>\n",
       "      <td>0.2098</td>\n",
       "      <td>0.8663</td>\n",
       "      <td>0.6869</td>\n",
       "      <td>0.2575</td>\n",
       "      <td>0.6638</td>\n",
       "      <td>0.17300</td>\n",
       "    </tr>\n",
       "    <tr>\n",
       "      <th>4</th>\n",
       "      <td>84358402</td>\n",
       "      <td>M</td>\n",
       "      <td>20.29</td>\n",
       "      <td>14.34</td>\n",
       "      <td>135.10</td>\n",
       "      <td>1297.0</td>\n",
       "      <td>0.10030</td>\n",
       "      <td>0.13280</td>\n",
       "      <td>0.19800</td>\n",
       "      <td>0.10430</td>\n",
       "      <td>...</td>\n",
       "      <td>22.54</td>\n",
       "      <td>16.67</td>\n",
       "      <td>152.20</td>\n",
       "      <td>1575.0</td>\n",
       "      <td>0.1374</td>\n",
       "      <td>0.2050</td>\n",
       "      <td>0.4000</td>\n",
       "      <td>0.1625</td>\n",
       "      <td>0.2364</td>\n",
       "      <td>0.07678</td>\n",
       "    </tr>\n",
       "    <tr>\n",
       "      <th>5</th>\n",
       "      <td>843786</td>\n",
       "      <td>M</td>\n",
       "      <td>12.45</td>\n",
       "      <td>15.70</td>\n",
       "      <td>82.57</td>\n",
       "      <td>477.1</td>\n",
       "      <td>0.12780</td>\n",
       "      <td>0.17000</td>\n",
       "      <td>0.15780</td>\n",
       "      <td>0.08089</td>\n",
       "      <td>...</td>\n",
       "      <td>15.47</td>\n",
       "      <td>23.75</td>\n",
       "      <td>103.40</td>\n",
       "      <td>741.6</td>\n",
       "      <td>0.1791</td>\n",
       "      <td>0.5249</td>\n",
       "      <td>0.5355</td>\n",
       "      <td>0.1741</td>\n",
       "      <td>0.3985</td>\n",
       "      <td>0.12440</td>\n",
       "    </tr>\n",
       "    <tr>\n",
       "      <th>6</th>\n",
       "      <td>844359</td>\n",
       "      <td>M</td>\n",
       "      <td>18.25</td>\n",
       "      <td>19.98</td>\n",
       "      <td>119.60</td>\n",
       "      <td>1040.0</td>\n",
       "      <td>0.09463</td>\n",
       "      <td>0.10900</td>\n",
       "      <td>0.11270</td>\n",
       "      <td>0.07400</td>\n",
       "      <td>...</td>\n",
       "      <td>22.88</td>\n",
       "      <td>27.66</td>\n",
       "      <td>153.20</td>\n",
       "      <td>1606.0</td>\n",
       "      <td>0.1442</td>\n",
       "      <td>0.2576</td>\n",
       "      <td>0.3784</td>\n",
       "      <td>0.1932</td>\n",
       "      <td>0.3063</td>\n",
       "      <td>0.08368</td>\n",
       "    </tr>\n",
       "    <tr>\n",
       "      <th>7</th>\n",
       "      <td>84458202</td>\n",
       "      <td>M</td>\n",
       "      <td>13.71</td>\n",
       "      <td>20.83</td>\n",
       "      <td>90.20</td>\n",
       "      <td>577.9</td>\n",
       "      <td>0.11890</td>\n",
       "      <td>0.16450</td>\n",
       "      <td>0.09366</td>\n",
       "      <td>0.05985</td>\n",
       "      <td>...</td>\n",
       "      <td>17.06</td>\n",
       "      <td>28.14</td>\n",
       "      <td>110.60</td>\n",
       "      <td>897.0</td>\n",
       "      <td>0.1654</td>\n",
       "      <td>0.3682</td>\n",
       "      <td>0.2678</td>\n",
       "      <td>0.1556</td>\n",
       "      <td>0.3196</td>\n",
       "      <td>0.11510</td>\n",
       "    </tr>\n",
       "    <tr>\n",
       "      <th>8</th>\n",
       "      <td>844981</td>\n",
       "      <td>M</td>\n",
       "      <td>13.00</td>\n",
       "      <td>21.82</td>\n",
       "      <td>87.50</td>\n",
       "      <td>519.8</td>\n",
       "      <td>0.12730</td>\n",
       "      <td>0.19320</td>\n",
       "      <td>0.18590</td>\n",
       "      <td>0.09353</td>\n",
       "      <td>...</td>\n",
       "      <td>15.49</td>\n",
       "      <td>30.73</td>\n",
       "      <td>106.20</td>\n",
       "      <td>739.3</td>\n",
       "      <td>0.1703</td>\n",
       "      <td>0.5401</td>\n",
       "      <td>0.5390</td>\n",
       "      <td>0.2060</td>\n",
       "      <td>0.4378</td>\n",
       "      <td>0.10720</td>\n",
       "    </tr>\n",
       "    <tr>\n",
       "      <th>9</th>\n",
       "      <td>84501001</td>\n",
       "      <td>M</td>\n",
       "      <td>12.46</td>\n",
       "      <td>24.04</td>\n",
       "      <td>83.97</td>\n",
       "      <td>475.9</td>\n",
       "      <td>0.11860</td>\n",
       "      <td>0.23960</td>\n",
       "      <td>0.22730</td>\n",
       "      <td>0.08543</td>\n",
       "      <td>...</td>\n",
       "      <td>15.09</td>\n",
       "      <td>40.68</td>\n",
       "      <td>97.65</td>\n",
       "      <td>711.4</td>\n",
       "      <td>0.1853</td>\n",
       "      <td>1.0580</td>\n",
       "      <td>1.1050</td>\n",
       "      <td>0.2210</td>\n",
       "      <td>0.4366</td>\n",
       "      <td>0.20750</td>\n",
       "    </tr>\n",
       "  </tbody>\n",
       "</table>\n",
       "<p>10 rows × 32 columns</p>\n",
       "</div>"
      ],
      "text/plain": [
       "         id diagnosis  radius_mean  texture_mean  perimeter_mean  area_mean  \\\n",
       "0    842302         M        17.99         10.38          122.80     1001.0   \n",
       "1    842517         M        20.57         17.77          132.90     1326.0   \n",
       "2  84300903         M        19.69         21.25          130.00     1203.0   \n",
       "3  84348301         M        11.42         20.38           77.58      386.1   \n",
       "4  84358402         M        20.29         14.34          135.10     1297.0   \n",
       "5    843786         M        12.45         15.70           82.57      477.1   \n",
       "6    844359         M        18.25         19.98          119.60     1040.0   \n",
       "7  84458202         M        13.71         20.83           90.20      577.9   \n",
       "8    844981         M        13.00         21.82           87.50      519.8   \n",
       "9  84501001         M        12.46         24.04           83.97      475.9   \n",
       "\n",
       "   smoothness_mean  compactness_mean  concavity_mean  concave points_mean  \\\n",
       "0          0.11840           0.27760         0.30010              0.14710   \n",
       "1          0.08474           0.07864         0.08690              0.07017   \n",
       "2          0.10960           0.15990         0.19740              0.12790   \n",
       "3          0.14250           0.28390         0.24140              0.10520   \n",
       "4          0.10030           0.13280         0.19800              0.10430   \n",
       "5          0.12780           0.17000         0.15780              0.08089   \n",
       "6          0.09463           0.10900         0.11270              0.07400   \n",
       "7          0.11890           0.16450         0.09366              0.05985   \n",
       "8          0.12730           0.19320         0.18590              0.09353   \n",
       "9          0.11860           0.23960         0.22730              0.08543   \n",
       "\n",
       "            ...             radius_worst  texture_worst  perimeter_worst  \\\n",
       "0           ...                    25.38          17.33           184.60   \n",
       "1           ...                    24.99          23.41           158.80   \n",
       "2           ...                    23.57          25.53           152.50   \n",
       "3           ...                    14.91          26.50            98.87   \n",
       "4           ...                    22.54          16.67           152.20   \n",
       "5           ...                    15.47          23.75           103.40   \n",
       "6           ...                    22.88          27.66           153.20   \n",
       "7           ...                    17.06          28.14           110.60   \n",
       "8           ...                    15.49          30.73           106.20   \n",
       "9           ...                    15.09          40.68            97.65   \n",
       "\n",
       "   area_worst  smoothness_worst  compactness_worst  concavity_worst  \\\n",
       "0      2019.0            0.1622             0.6656           0.7119   \n",
       "1      1956.0            0.1238             0.1866           0.2416   \n",
       "2      1709.0            0.1444             0.4245           0.4504   \n",
       "3       567.7            0.2098             0.8663           0.6869   \n",
       "4      1575.0            0.1374             0.2050           0.4000   \n",
       "5       741.6            0.1791             0.5249           0.5355   \n",
       "6      1606.0            0.1442             0.2576           0.3784   \n",
       "7       897.0            0.1654             0.3682           0.2678   \n",
       "8       739.3            0.1703             0.5401           0.5390   \n",
       "9       711.4            0.1853             1.0580           1.1050   \n",
       "\n",
       "   concave points_worst  symmetry_worst  fractal_dimension_worst  \n",
       "0                0.2654          0.4601                  0.11890  \n",
       "1                0.1860          0.2750                  0.08902  \n",
       "2                0.2430          0.3613                  0.08758  \n",
       "3                0.2575          0.6638                  0.17300  \n",
       "4                0.1625          0.2364                  0.07678  \n",
       "5                0.1741          0.3985                  0.12440  \n",
       "6                0.1932          0.3063                  0.08368  \n",
       "7                0.1556          0.3196                  0.11510  \n",
       "8                0.2060          0.4378                  0.10720  \n",
       "9                0.2210          0.4366                  0.20750  \n",
       "\n",
       "[10 rows x 32 columns]"
      ]
     },
     "execution_count": 13,
     "metadata": {},
     "output_type": "execute_result"
    }
   ],
   "source": [
    "data_file = 'https://yairomer.github.io/ml_course/datasets/breast_cancer.csv'\n",
    "\n",
    "## Loading the data\n",
    "dataset = pd.read_csv(data_file)\n",
    "\n",
    "## Print the number of rows in the data set\n",
    "number_of_rows = len(dataset)\n",
    "print_math('Number of rows in the dataset: $N={}$'.format(number_of_rows))\n",
    "\n",
    "## Show the first 10 rows\n",
    "dataset.head(10)"
   ]
  },
  {
   "cell_type": "markdown",
   "metadata": {},
   "source": [
    "### 📚 Splitting the dataset"
   ]
  },
  {
   "cell_type": "code",
   "execution_count": null,
   "metadata": {},
   "outputs": [],
   "source": [
    "n_samples = len(dataset)\n",
    "\n",
    "## Generate a random generator with a fixed seed\n",
    "rand_gen = np.random.RandomState(0)\n",
    "\n",
    "## Generating a vector of indices\n",
    "indices = np.arange(n_samples)\n",
    "\n",
    "## Shuffle the indices\n",
    "rand_gen.shuffle(indices)\n",
    "\n",
    "## Split the indices into 60% train / 20% validation / 20% test\n",
    "n_samples_train = int(n_samples * 0.6)\n",
    "n_samples_validation = int(n_samples * 0.2)\n",
    "n_samples_test = n_samples - n_samples_train - n_samples_validation\n",
    "train_indices = indices[:n_samples_train]\n",
    "validation_indices = indices[n_samples_train:(n_samples_train + n_samples_validation)]\n",
    "test_indices = indices[(n_samples_train + n_samples_validation):]\n",
    "\n",
    "train_set = dataset.iloc[train_indices]\n",
    "validation_set = dataset.iloc[validation_indices]\n",
    "test_set = dataset.iloc[test_indices]"
   ]
  },
  {
   "cell_type": "markdown",
   "metadata": {},
   "source": [
    "## 💡 Model & Learning Method Suggestion: Linear Logistic Regression with PyTorch\n",
    "\n",
    "We will solve the exact same problem using the exact same model but this time using the PyTorch frameworks.\n",
    "\n",
    "### Reminder:\n",
    "\n",
    "We assume a model of the form:\n",
    "$$\n",
    "p\\left(y=1|\\boldsymbol{x};\\boldsymbol{\\theta}\\right)=1-p\\left(y=0|\\boldsymbol{x};\\boldsymbol{\\theta}\\right)=g\\left(\\boldsymbol{\\theta}^T \\boldsymbol{x}\\right)=\\frac{1}{1+e^{-\\boldsymbol{\\theta}^T \\boldsymbol{x}}}\n",
    "$$\n",
    "\n",
    "And would like to select $\\boldsymbol{\\theta}$ according to:\n",
    "\n",
    "$$\n",
    "\\begin{align*}\n",
    "\\boldsymbol{\\theta}^*\n",
    "& = \\underset{\\boldsymbol{\\theta}}{\\arg\\max}\\ \\mathcal{L}\\left(\\boldsymbol{\\theta};\\left\\{\\boldsymbol{x}_i,y_i\\right\\}\\right) \\\\\n",
    "& = \\underset{\\boldsymbol{\\theta}}{\\arg\\min}\\underbrace{-\\frac{1}{N}\\sum_i\\log\\left(g\\left(\\boldsymbol{\\theta}^T \\boldsymbol{x}\\right)\\right)y_i + \\log\\left(1-g\\left(\\boldsymbol{\\theta}^T \\boldsymbol{x}\\right)\\right)\\left(1-y_i\\right)}_{=h\\left(\\boldsymbol{\\theta};\\left\\{\\boldsymbol{x}_i,y_i\\right\\}\\right)} \\\\\n",
    "\\end{align*}\n",
    "$$\n",
    "\n",
    "We will use gradient descent decent for that, where our gradient step will be:\n",
    "\n",
    "$$\n",
    "\\boldsymbol{\\theta}^{\\left(k+1\\right)}=\\boldsymbol{\\theta}^{\\left(k\\right)} - \\alpha\\nabla_\\theta h\\left(\\boldsymbol{\\theta^{\\left(k\\right)}}\\right)\n",
    "$$"
   ]
  },
  {
   "cell_type": "markdown",
   "metadata": {},
   "source": [
    "## PyTorch's functions\n",
    "\n",
    "We shall use the additional PyTorch's functions\n",
    "\n",
    "- **[torch.nn.Sigmoid](https://pytorch.org/docs/stable/nn.html#sigmoid)** implements the function logistic regression function, which is often also called a sigmoid.\n",
    "\n",
    "- **[torch.nn.BCELoss](https://pytorch.org/docs/stable/nn.html#bceloss)**: The Binary Cross Entropy Loss, which is the objective function which we are trying to minimize. It is defined as:\n",
    "$$\n",
    "l\\left(\\left\\{y_i, p_i\\right\\}\\right)=-\\frac{1}{N}\\sum_i\\log\\left(p_i\\right)y_i + \\log\\left(1-p_i\\right)\\left(1-y_i\\right)\n",
    "$$\n",
    "\n",
    "Implementation:"
   ]
  },
  {
   "cell_type": "code",
   "execution_count": null,
   "metadata": {},
   "outputs": [],
   "source": [
    "## Prepare the data\n",
    "## ================\n",
    "\n",
    "## Define x & y for the train set\n",
    "x_train = torch.tensor(train_set[['radius_mean', 'texture_mean']].values, dtype=torch.float).cuda()\n",
    "y_train = torch.tensor((train_set['diagnosis'].values == 'M').astype(int), dtype=torch.int).cuda()\n",
    "\n",
    "## Define x & y for the validation set\n",
    "x_val = torch.tensor(validation_set[['radius_mean', 'texture_mean']].values, dtype=torch.float).cuda()\n",
    "y_val = torch.tensor((validation_set['diagnosis'].values == 'M').astype(int), dtype=torch.int).cuda()\n",
    "\n",
    "## Define x & y for the test set\n",
    "x_test = torch.tensor(test_set[['radius_mean', 'texture_mean']].values, dtype=torch.float).cuda()\n",
    "y_test = torch.tensor((test_set['diagnosis'].values == 'M').astype(int), dtype=torch.int).cuda()"
   ]
  },
  {
   "cell_type": "code",
   "execution_count": null,
   "metadata": {},
   "outputs": [],
   "source": [
    "## Defining the network\n",
    "class Net(nn.Module):\n",
    "    def __init__(self, n_features):\n",
    "        ## The following line should appear in the begining of the __init__ function.\n",
    "        ## It is realted to inheretance issues and we will not elaborate on this here.\n",
    "        super(Net, self).__init__()\n",
    "        \n",
    "        self.linear = nn.Linear(n_features, 1)  ## A linear model with input of n_features and output of 1. \n",
    "        self.sigmoid = nn.Sigmoid()  ## A sigmoid function\n",
    "    \n",
    "    def forward(self, x):\n",
    "        x = self.linear(x)\n",
    "        x = self.sigmoid(x)\n",
    "        \n",
    "        x = x.view(-1)  ## Reshape x to make it a 1D tensor (vector)\n",
    "        return x"
   ]
  },
  {
   "cell_type": "code",
   "execution_count": null,
   "metadata": {},
   "outputs": [
    {
     "data": {
      "text/html": [
       "<p><script type=\"text/x-mathjax-config\">MathJax.Hub.Config({tex2jax: {inlineMath: [['$','$'], ['\\\\(','\\\\)']]}});</script><script src='https://cdnjs.cloudflare.com/ajax/libs/mathjax/2.7.3/latest.js?config=TeX-AMS_CHTML'></script>The test risk is: $0.096$</p>"
      ],
      "text/plain": [
       "<IPython.core.display.HTML object>"
      ]
     },
     "metadata": {},
     "output_type": "display_data"
    },
    {
     "data": {
      "image/png": "[encoded data removed]",
      "text/plain": [
       "<Figure size 600x600 with 1 Axes>"
      ]
     },
     "metadata": {
      "needs_background": "light"
     },
     "output_type": "display_data"
    }
   ],
   "source": [
    "## The gradient decent algorithm\n",
    "## =============================\n",
    "def basic_gradient_decent(net, alpha, tol, max_iter, x_train, y_train, x_val, y_val, store_every=1):\n",
    "    ## Set the loss function\n",
    "    loss_func = nn.BCELoss()\n",
    "    \n",
    "    ## Initizalie the optimizer\n",
    "    opt = optim.SGD(net.parameters(), lr=alpha)\n",
    "\n",
    "    ## Calucalte the initial objective\n",
    "    prob = net(x_train)\n",
    "    last_objective = loss_func(prob, y_train.float())\n",
    "    prob_val = net(x_val)\n",
    "    last_objective_val = loss_func(prob_val, y_val.float())\n",
    "\n",
    "    ## Initialize lists to store intermidiate results for plotting\n",
    "    steps_list = [0]\n",
    "    objective_list_train = [float(last_objective)]\n",
    "    objective_list_val = [float(last_objective_val)]\n",
    "\n",
    "    ## Perforing the update steps\n",
    "    i_iter = 0\n",
    "    while True:\n",
    "        i_iter += 1\n",
    "                       \n",
    "        opt.zero_grad()\n",
    "        prob = net(x_train)\n",
    "        objective = loss_func(prob, y_train.float())  ## Forward pass\n",
    "        objective.backward()  ## Backward pass\n",
    "        opt.step()  ## Perform the update step\n",
    "\n",
    "        ## Calculate the new objective\n",
    "        prob_val = net(x_val)\n",
    "        objective_val = loss_func(prob_val, y_val.float())\n",
    "\n",
    "        ## Store intermidiate results\n",
    "        if i_iter % store_every == 0:\n",
    "            steps_list.append(i_iter)\n",
    "            objective_list_train.append(float(objective))\n",
    "            objective_list_val.append(float(objective_val))\n",
    "\n",
    "        ## Check the stop criteria\n",
    "        if (torch.abs(objective_val - last_objective_val) < tol) or (i_iter == max_iter):\n",
    "            break\n",
    "        last_objective_val = objective_val\n",
    "\n",
    "    ## Plot results\n",
    "    ## ============\n",
    "#     print('The number of iteration performed: {}'.format(i_iter))\n",
    "\n",
    "    ## convert indermidiate results to numpy arrays\n",
    "    steps_list = np.array(steps_list)\n",
    "    objective_list_train = np.array(objective_list_train)\n",
    "    objective_list_val = np.array(objective_list_val)\n",
    "\n",
    "    ## Plot\n",
    "    fig, ax = plt.subplots()\n",
    "    ax.plot(steps_list, objective_list_train, label='Train')\n",
    "    ax.plot(steps_list, objective_list_val, label='Validation')\n",
    "    ax.set_title('$\\\\alpha$={:g}, # iterations: {}'.format(alpha, i_iter))\n",
    "    ax.set_xlabel('Step')\n",
    "    ax.set_xlabel('Objective')\n",
    "    ax.legend()\n",
    "    \n",
    "    return net\n",
    "\n",
    "## Optimization parameters\n",
    "## =======================\n",
    "tol = 1e-7\n",
    "max_iter = 100000\n",
    "alpha = 1e-2\n",
    "\n",
    "net = Net(x_train.shape[1]).cuda()\n",
    "net = basic_gradient_decent(net, alpha, tol, max_iter, x_train, y_train, x_val, y_val, store_every=1000)\n",
    "\n",
    "## Evaluate the risk on the test set\n",
    "test_prediction = net(x_test) > 0.5\n",
    "test_risk = (test_prediction.int() != y_test).float().mean()\n",
    "\n",
    "print_math('The test risk is: ${:.2}$'.format(test_risk))"
   ]
  },
  {
   "cell_type": "markdown",
   "metadata": {},
   "source": [
    "## MLP\n",
    "\n",
    "To make our network an MLP, we need to add at least one more layer. Let us add a hidden layer of 2 neurons. We will remove the stop criteria for now, in order to see the systems behavior."
   ]
  },
  {
   "cell_type": "code",
   "execution_count": null,
   "metadata": {},
   "outputs": [
    {
     "data": {
      "text/html": [
       "<p><script type=\"text/x-mathjax-config\">MathJax.Hub.Config({tex2jax: {inlineMath: [['$','$'], ['\\\\(','\\\\)']]}});</script><script src='https://cdnjs.cloudflare.com/ajax/libs/mathjax/2.7.3/latest.js?config=TeX-AMS_CHTML'></script>The test risk is: $0.07$</p>"
      ],
      "text/plain": [
       "<IPython.core.display.HTML object>"
      ]
     },
     "metadata": {},
     "output_type": "display_data"
    },
    {
     "data": {
      "image/png": "[encoded data removed]",
      "text/plain": [
       "<Figure size 600x600 with 1 Axes>"
      ]
     },
     "metadata": {
      "needs_background": "light"
     },
     "output_type": "display_data"
    }
   ],
   "source": [
    "class NetMLP(nn.Module):\n",
    "    def __init__(self, n_features, n_units_in_hidden=2):\n",
    "        ## The following line should appear in the begining of the __init__ function.\n",
    "        ## It is realted to inheretance issues and we will not elaborate on this here.\n",
    "        super(NetMLP, self).__init__()\n",
    "        \n",
    "        self.linear1 = nn.Linear(n_features, n_units_in_hidden)  ## input: n_features, output: n_units_in_hidden\n",
    "        self.linear2 = nn.Linear(n_units_in_hidden, 1)  ## input: n_units_in_hidden, output: 1\n",
    "        self.sigmoid = nn.Sigmoid()  ## A sigmoid function\n",
    "        \n",
    "        torch.random.manual_seed(0)\n",
    "        torch.nn.init.normal_(self.linear1.weight)\n",
    "        torch.nn.init.normal_(self.linear2.weight)\n",
    "        \n",
    "    def forward(self, x):\n",
    "        x = self.linear1(x)\n",
    "        x = self.sigmoid(x)\n",
    "        x = self.linear2(x)\n",
    "        x = self.sigmoid(x)\n",
    "        \n",
    "        x = x.view(-1)  ## Reshape x to make it a 1D tensor (vector)\n",
    "        return x\n",
    "\n",
    "## Optimization parameters\n",
    "## =======================\n",
    "tol = 0 # 1e-7\n",
    "max_iter = 300000\n",
    "alpha = 1e-2\n",
    "\n",
    "net = NetMLP(x_train.shape[1]).cuda()\n",
    "net = basic_gradient_decent(net, alpha, tol, max_iter, x_train, y_train, x_val, y_val, store_every=1)\n",
    "\n",
    "## Evaluate the risk on the test set\n",
    "test_prediction = net(x_test) > 0.5\n",
    "test_risk = (test_prediction.int() != y_test).float().mean()\n",
    "\n",
    "print_math('The test risk is: ${:.2}$'.format(test_risk))"
   ]
  },
  {
   "cell_type": "code",
   "execution_count": null,
   "metadata": {},
   "outputs": [],
   "source": []
  },
  {
   "cell_type": "markdown",
   "metadata": {},
   "source": [
    "### Plotting the discrimination rule\n",
    "\n",
    "Let us plot the resulting discrimination rule."
   ]
  },
  {
   "cell_type": "code",
   "execution_count": null,
   "metadata": {},
   "outputs": [
    {
     "data": {
      "image/png": "[encoded data removed]",
      "text/plain": [
       "<Figure size 600x600 with 1 Axes>"
      ]
     },
     "metadata": {
      "needs_background": "light"
     },
     "output_type": "display_data"
    }
   ],
   "source": [
    "x1_grid, x2_grid = np.meshgrid(np.arange(5, 35 + 1e-9, 0.1), np.arange(5, 35 + 1e-9, 0.1))\n",
    "\n",
    "predict = net(torch.tensor(np.stack([x1_grid.flat, x2_grid.flat], axis=1)).float().cuda()) > 0.5\n",
    "predict = np.reshape(predict.cpu().numpy(), x1_grid.shape)\n",
    "\n",
    "fig, ax = plt.subplots()\n",
    "ax.imshow(predict, extent=[x1_grid.min(), x1_grid.max(), x2_grid.max(), x2_grid.min()], cmap='jet', alpha=0.5)\n",
    "ax.plot(x_train.cpu().numpy()[y_train.cpu().numpy()==1, 0], x_train.cpu().numpy()[y_train.cpu().numpy()==1, 1],'.r', markersize=4, label='M')\n",
    "ax.plot(x_train.cpu().numpy()[y_train.cpu().numpy()==0, 0], x_train.cpu().numpy()[y_train.cpu().numpy()==0, 1],'.b', markersize=4, label='B')\n",
    "ax.set_xlim(x1_grid.min(), x1_grid.max())\n",
    "ax.set_ylim(x2_grid.min(), x2_grid.max())\n",
    "ax.grid(True)\n",
    "ax.set_title('Radius Mean vs. Texture Mean')\n",
    "ax.set_xlabel('Radius')\n",
    "ax.set_ylabel('Gray levels STD')\n",
    "ax.legend();"
   ]
  },
  {
   "cell_type": "markdown",
   "metadata": {},
   "source": [
    "## Important but not covered\n",
    "\n",
    "- **[Datasets and DataLoader](https://pytorch.org/tutorials/beginner/data_loading_tutorial.html)**: Two PyTorch classes to handle the data loading and management, and for running over batches of data.\n",
    "- **[torch.nn.Sequential](https://pytorch.org/docs/stable/nn.html#torch.nn.Sequential)**: A very elegant and simple way to stack a few modules (usually network layers) into a single module.\n",
    "- **[torchvision](https://pytorch.org/docs/stable/torchvision/index.html)**: An additional package (which is part of the PyTorch project) which adds some tools to PyTorch which are commonly uses in computer vision.\n",
    "- **[Learning rate scheduling](https://pytorch.org/docs/stable/optim.html#how-to-adjust-learning-rate)**: PyTorch provides a set of tool for scheduling the learning rate during the learning process."
   ]
  },
  {
   "cell_type": "markdown",
   "metadata": {},
   "source": [
    "## Additional Note about Monitoring: TensorBoard and TensorBoardX\n",
    "\n",
    "When working with long learning stages (in many cases people can even run the learning stage for a few days) the need to monitor the learning process arises. Mainly we would like to monitor how does the objective and the risk functions improve over time (on the train and the validation datasets), and some sampled results.\n",
    "\n",
    "One of the commonly used tools for this task is TensorFlow's built-in dashboard, which is called **[TensorBaord](https://www.tensorflow.org/tensorboard)**. TensorBoard provides a simple way to writing arbitrary parameters to it, such as the train and test risk, and then arranges them in interactive graphs.\n",
    "\n",
    "While TensorBoard was originally designed to work specifically with TensorFlow, a package called **[tensorboardX](https://github.com/lanpa/tensorboardX)** enables writing data to the TensorBorad dashboard from any python code.\n",
    "\n",
    "In this workshops, we will not be going over these tools, but it is highly recommended for anyone running long (more then a few minutes) processes to do so."
   ]
  },
  {
   "cell_type": "code",
   "execution_count": null,
   "metadata": {},
   "outputs": [
    {
     "data": {
      "text/html": [
       "<link rel=\"stylesheet\" href=\"../css/style.css\"> <!--Setting styles - You can simply ignore this line-->\n"
      ],
      "text/plain": [
       "<IPython.core.display.HTML object>"
      ]
     },
     "metadata": {},
     "output_type": "display_data"
    }
   ],
   "source": [
    "%%html\n",
    "<link rel=\"stylesheet\" href=\"../css/style.css\"> <!--Setting styles - You can simply ignore this line-->"
   ]
  }
 ],
 "metadata": {
  "kernelspec": {
   "display_name": "Python 3",
   "language": "python",
   "name": "python3"
  }
 },
 "nbformat": 4,
 "nbformat_minor": 2
}
