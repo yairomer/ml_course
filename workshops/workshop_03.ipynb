{
 "cells": [
  {
   "cell_type": "markdown",
   "metadata": {},
   "source": [
    "<center><h1 class=\"background-title\">Workshop 3 - Background<br>MLE & MAP</h1></center>"
   ]
  },
  {
   "cell_type": "markdown",
   "metadata": {},
   "source": [
    "## 🎛️ Parametric Estimation\n",
    "\n",
    "In contrast to evaluating the distribution of a random variable in a non-parametric way, a much more popular approach is to assume some known form of the distribution, up to some unknown parameters. For example, a commonly used assumption is that a random variable has a normal distribution with some unknown mean value and standard deviation. We will refer to the form of the distribution, which is assumed to be known, as the model, and our task will be to estimate the values of the unknown model's parameters.\n",
    "\n",
    "We would usually denote the vector of model parameters as $\\boldsymbol{\\theta}$.\n",
    "\n",
    "There are two main approaches for doing parametric estimation. We will describe them both."
   ]
  },
  {
   "cell_type": "markdown",
   "metadata": {},
   "source": [
    "## 👨 Bayesian Inference\n",
    "\n",
    "Under this approach, we assume that the unknown model parameters $\\boldsymbol{\\tilde{\\theta}}$ are random variables which have been drawn from some known distribution $p_\\boldsymbol{\\tilde{\\theta}}$, called the **prior distribution** (or the **a priori distribution**).\n",
    "\n",
    "Under the Bayesian approach, our model for the distribution of the data $\\boldsymbol{x}$, given the parameters, is described through the conditional probability $p_{\\boldsymbol{X}|\\boldsymbol{\\tilde{\\theta}}}$\n",
    "\n",
    "Based on the data, we would update our belief of the distribution of the parameters using Bayes' rule:\n",
    "\n",
    "$$\n",
    "p_{\\boldsymbol{\\tilde{\\theta}}|\\boldsymbol{X}}\\left(\\boldsymbol{\\theta}|\\boldsymbol{x}\\right)=\\frac{\n",
    "p_{\\boldsymbol{X}|\\boldsymbol{\\tilde{\\theta}}}\\left(\\boldsymbol{x}|\\boldsymbol{\\theta}\\right)\n",
    "p_{\\boldsymbol{\\tilde{\\theta}}}\\left(\\boldsymbol{\\theta}\\right)}{\n",
    "p_{\\boldsymbol{X}}\\left(\\boldsymbol{x}\\right)\n",
    "}\n",
    "$$\n",
    "\n",
    "(Here $\\boldsymbol{\\tilde{\\theta}}$ is a vector of random variables and $\\boldsymbol{\\theta}$ is a realization of it)\n",
    "\n",
    "The conditional probability $p_{\\boldsymbol{\\tilde{\\theta}}|\\boldsymbol{X}}$ is called the **posterior distribution** (or the **a posteriori distribution**)."
   ]
  },
  {
   "cell_type": "markdown",
   "metadata": {},
   "source": [
    "Let us give an interpretation to each of the terms:\n",
    "\n",
    "- $p_{\\boldsymbol{X}|\\boldsymbol{\\tilde{\\theta}}}\\left(\\boldsymbol{x}|\\boldsymbol{\\theta}\\right)$ - The likelihood: How good a given $\\boldsymbol{\\theta}$ explains the measured data.\n",
    "- $p_{\\boldsymbol{\\tilde{\\theta}}}\\left(\\boldsymbol{\\theta}\\right)$ - The prior distribution: How probable is it for the random variable $\\boldsymbol{\\tilde{\\theta}}$ to be equal to a specific set of values $\\boldsymbol{\\theta}$.\n",
    "- $p_{\\boldsymbol{X}}\\left(\\boldsymbol{x}\\right)$ - The model evidence: How probable is it for the random variable $\\boldsymbol{X}$ to be equal to the actual measured data $\\boldsymbol{x}$. This is based on the complete model, unrelated related to any specific value of $\\boldsymbol{\\theta}$. This term is simply the normalization factor which is necessary for making the posterior distribution a valid probability"
   ]
  },
  {
   "cell_type": "markdown",
   "metadata": {},
   "source": [
    "There are a few methods for selecting the optimal model parameters $\\boldsymbol{\\theta}^*$ based upon the posterior distribution. We will describe one of them"
   ]
  },
  {
   "cell_type": "markdown",
   "metadata": {},
   "source": [
    "### Maximum A Posteriori Estimation (MAP)\n",
    "\n",
    "In MAP estimation we will select the optimal model parameters $\\boldsymbol{\\theta}^*$ as the parameters which maximize the posterior distribution:\n",
    "\n",
    "$$\n",
    "\\boldsymbol{\\theta}^*=\\underset{\\boldsymbol{\\theta}}{\\arg\\max}\\ p_{\\boldsymbol{\\Theta}|\\boldsymbol{X}}\\left(\\boldsymbol{\\theta}|\\boldsymbol{x}\\right)=\\underset{\\boldsymbol{\\theta}}{\\arg\\max}\\ \\frac{\n",
    "p_{\\boldsymbol{X}|\\boldsymbol{\\Theta}}\\left(\\boldsymbol{x}|\\boldsymbol{\\theta}\\right)\n",
    "p_{\\boldsymbol{\\Theta}}\\left(\\boldsymbol{\\theta}\\right)}{\n",
    "p_{\\boldsymbol{X}}\\left(\\boldsymbol{x}\\right)}\n",
    "$$\n",
    "\n",
    "We will note that the term $p_{\\boldsymbol{X}}\\left(\\boldsymbol{x}\\right)$ has no effect on the result of $\\underset{\\boldsymbol{\\theta}}{\\arg\\max}$, therefore:\n",
    "\n",
    "$$\n",
    "\\boldsymbol{\\theta}^*=\\underset{\\boldsymbol{\\theta}}{\\arg\\max}\\ p_{\\boldsymbol{X}|\\boldsymbol{\\Theta}}\\left(\\boldsymbol{x}|\\boldsymbol{\\theta}\\right)\n",
    "p_{\\boldsymbol{\\Theta}}\\left(\\boldsymbol{\\theta}\\right)\n",
    "$$\n",
    "\n",
    "An intuitive interpretation is that we would like to select the optimal $\\boldsymbol{\\theta}$ which can both explain the measured data (high likelihood) and has a high prior probability.\n",
    "\n",
    "In practice we would usually solve:\n",
    "$$\n",
    "\\begin{align*}\n",
    "\\boldsymbol{\\theta}^*\n",
    "& =\\underset{\\boldsymbol{\\theta}}{\\arg\\max}\\ p_{\\boldsymbol{X}|\\boldsymbol{\\Theta}}\\left(\\boldsymbol{x}|\\boldsymbol{\\theta}\\right)\n",
    "p_{\\boldsymbol{\\Theta}}\\left(\\boldsymbol{\\theta}\\right) \\\\\n",
    "& =\\underset{\\boldsymbol{\\theta}}{\\arg\\min}\\ -\\log\\left(p_{\\boldsymbol{X}|\\boldsymbol{\\Theta}}\\left(\\boldsymbol{x}|\\boldsymbol{\\theta}\\right)\\right)\n",
    "-\\log\\left(p_{\\boldsymbol{\\Theta}}\\left(\\boldsymbol{\\theta}\\right)\\right)\n",
    "\\end{align*}\n",
    "$$\n",
    "\n",
    "Here, the second equality is due to the monotonically increasing nature of the $\\log$ function and results in an expression which is usually simpler to use."
   ]
  },
  {
   "cell_type": "markdown",
   "metadata": {},
   "source": [
    "## ⏳️ Frequentist Inference\n",
    "\n",
    "Under this approach, we assume that the unknown model parameters are some constant unknown parameters without any distribution related to them. Under the frequentist approach, our model for the distribution of the data based on the parameters is described as a parametric probability function $p_{\\boldsymbol{X}}\\left(\\boldsymbol{x}\\ ;\\boldsymbol{\\theta}\\right)$\n",
    "\n",
    "**A comment**: Since in this case $\\boldsymbol{\\theta}$ is no longer a random variable, we have used here  $p\\left(\\cdot;\\cdot\\right)$ to emphasize that $\\boldsymbol{\\theta}$ is a prameter of $p$. In the Bayesian case we have used $p\\left(\\cdot|\\cdot\\right)$ to donate the conditional probability. This distinction is not always made and in the lectures for example we will be using $p\\left(\\cdot|\\cdot\\right)$ for both cases.\n",
    "\n",
    "Based on the data $\\boldsymbol{x}$, the likelihood function is defined as $\\mathcal{L}\\left(\\boldsymbol{\\theta};\\boldsymbol{x}\\right)=p_{\\boldsymbol{X}}\\left(\\boldsymbol{x}\\ ;\\boldsymbol{\\theta}\\right)$.\n",
    "\n",
    "This is merely a change of notation to distinguish the change of roles between $\\boldsymbol{x}$ and $\\boldsymbol{\\theta}$. While the probability function is a function of $\\boldsymbol{x}$, and we assume that $\\boldsymbol{\\theta}$ is known, the likelihood function is a function of $\\boldsymbol{\\theta}$, and we assume that $\\boldsymbol{x}$ is known.\n",
    "\n",
    "For simplicity we would also define the log-likelihood function: $l\\left(\\boldsymbol{\\theta};\\boldsymbol{x}\\right)=\\log\\left(\\mathcal{L}\\left(\\boldsymbol{\\theta};\\boldsymbol{x}\\right)\\right)$"
   ]
  },
  {
   "cell_type": "markdown",
   "metadata": {},
   "source": [
    "Here as well, there are a few methods for selecting the optimal model parameters $\\boldsymbol{\\theta}^*$ based upon the data, we will describe one of them."
   ]
  },
  {
   "cell_type": "markdown",
   "metadata": {},
   "source": [
    "### Maximum Likelihood Estimation (MLE)\n",
    "\n",
    "In MLE we select the optimal model parameters $\\boldsymbol{\\theta}^*$ as the parameters which maximizes the likelihood function:\n",
    "\n",
    "$$\n",
    "\\begin{align*}\n",
    "\\boldsymbol{\\theta}^*\n",
    "& = \\underset{\\boldsymbol{\\theta}}{\\arg\\max}\\ \\mathcal{L}\\left(\\boldsymbol{\\theta};\\boldsymbol{x}\\right) \\\\\n",
    "& = \\underset{\\boldsymbol{\\theta}}{\\arg\\min}\\ -l\\left(\\boldsymbol{\\theta};\\boldsymbol{x}\\right) \\\\\n",
    "& = \\underset{\\boldsymbol{\\theta}}{\\arg\\min}\\ -\\log\\left(p_{\\boldsymbol{X}}\\left(\\boldsymbol{x}\\ ;\\boldsymbol{\\theta}\\right)\\right)\n",
    "\\end{align*}\n",
    "$$"
   ]
  },
  {
   "cell_type": "markdown",
   "metadata": {},
   "source": [
    "<center><h1 class=\"workshop-title\">Workshop 3<br>MLE, MAP & Estimation Errors</h1></center>"
   ]
  },
  {
   "cell_type": "markdown",
   "metadata": {},
   "source": [
    "## 🚖 The NYC Taxi Dataset \n",
    "\n",
    "Let us return to the taxi rides [dataset](https://technion046195.github.io/semester_2019_spring/datasets/nyc_taxi_rides.csv) from the last workshop."
   ]
  },
  {
   "cell_type": "markdown",
   "metadata": {},
   "source": [
    "## ❓️ Problem Reminder: Estimating the Distribution of Trip Duration\n",
    "\n",
    "In the last workshop we have tried to describe the distribution of taxi rides duration using non-parametric methods. In this tutorial we will try to use parametric models to evaluate this distribution."
   ]
  },
  {
   "cell_type": "markdown",
   "metadata": {},
   "source": [
    "## 🔃 Reminder: The Workflow\n",
    "\n",
    "We will follow the same work flow from the workshop\n",
    "\n",
    "<center><img src=\"../media/diagrams/workflow/workflow_density_estimation.png\" width=\"300px\" style=\"width:300px\"/></center>"
   ]
  },
  {
   "cell_type": "markdown",
   "metadata": {},
   "source": [
    "## 🛠️ Preparations\n",
    "\n",
    "We will start by importing some useful packages"
   ]
  },
  {
   "cell_type": "code",
   "execution_count": null,
   "metadata": {},
   "outputs": [],
   "source": [
    "# Importing packages\n",
    "import numpy as np  # Numerical package (mainly multi-dimensional arrays and linear algebra)\n",
    "import pandas as pd  # A package for working with data frames\n",
    "import matplotlib.pyplot as plt  # A plotting package\n",
    "\n",
    "## Setup matplotlib to output figures into the notebook\n",
    "## - To make the figures interactive (zoomable, tooltip, etc.) use \"\"%matplotlib notebook\" instead\n",
    "%matplotlib inline\n",
    "\n",
    "plt.rcParams['figure.figsize'] = (5.0, 5.0)  # Set default plot's sizes\n",
    "plt.rcParams['figure.dpi'] = 90  # Set default plot's dpi (increase fonts' size)\n",
    "plt.rcParams['axes.grid'] = True  # Show grid by default in figures\n",
    "\n",
    "## A function to add Latex (equations) to output which works also in Google Colabrtroy\n",
    "## In a regular notebook this could simply be replaced with \"display(Markdown(x))\"\n",
    "from IPython.display import HTML\n",
    "def print_math(x):  # Define a function to preview markdown outputs as HTML using mathjax\n",
    "    display(HTML(''.join(['<p><script type=\"text/x-mathjax-config\">MathJax.Hub.Config({tex2jax: {inlineMath: [[\\'$\\',\\'$\\'], [\\'\\\\\\\\(\\',\\'\\\\\\\\)\\']]}});</script><script src=\\'https://cdnjs.cloudflare.com/ajax/libs/mathjax/2.7.3/latest.js?config=TeX-AMS_CHTML\\'></script>',x,'</p>'])))"
   ]
  },
  {
   "cell_type": "markdown",
   "metadata": {},
   "source": [
    "## 🕵️ Data Inspection (Reminder)\n",
    "\n",
    "Print out the size and the 10 first rows of the dataset."
   ]
  },
  {
   "cell_type": "code",
   "execution_count": null,
   "metadata": {},
   "outputs": [
    {
     "data": {
      "text/html": [
       "<p><script type=\"text/x-mathjax-config\">MathJax.Hub.Config({tex2jax: {inlineMath: [['$','$'], ['\\\\(','\\\\)']]}});</script><script src='https://cdnjs.cloudflare.com/ajax/libs/mathjax/2.7.3/latest.js?config=TeX-AMS_CHTML'></script>Number of rows in the dataset: $N=100000$</p>"
      ],
      "text/plain": [
       "<IPython.core.display.HTML object>"
      ]
     },
     "metadata": {},
     "output_type": "display_data"
    },
    {
     "data": {
      "text/html": [
       "<div>\n",
       "<style scoped>\n",
       "    .dataframe tbody tr th:only-of-type {\n",
       "        vertical-align: middle;\n",
       "    }\n",
       "\n",
       "    .dataframe tbody tr th {\n",
       "        vertical-align: top;\n",
       "    }\n",
       "\n",
       "    .dataframe thead th {\n",
       "        text-align: right;\n",
       "    }\n",
       "</style>\n",
       "<table border=\"1\" class=\"dataframe\">\n",
       "  <thead>\n",
       "    <tr style=\"text-align: right;\">\n",
       "      <th></th>\n",
       "      <th>passenger_count</th>\n",
       "      <th>trip_distance</th>\n",
       "      <th>payment_type</th>\n",
       "      <th>fare_amount</th>\n",
       "      <th>tip_amount</th>\n",
       "      <th>pickup_easting</th>\n",
       "      <th>pickup_northing</th>\n",
       "      <th>dropoff_easting</th>\n",
       "      <th>dropoff_northing</th>\n",
       "      <th>duration</th>\n",
       "      <th>day_of_week</th>\n",
       "      <th>day_of_month</th>\n",
       "      <th>time_of_day</th>\n",
       "    </tr>\n",
       "  </thead>\n",
       "  <tbody>\n",
       "    <tr>\n",
       "      <th>0</th>\n",
       "      <td>2</td>\n",
       "      <td>2.768065</td>\n",
       "      <td>2</td>\n",
       "      <td>9.5</td>\n",
       "      <td>0.00</td>\n",
       "      <td>586.996941</td>\n",
       "      <td>4512.979705</td>\n",
       "      <td>588.155118</td>\n",
       "      <td>4515.180889</td>\n",
       "      <td>11.516667</td>\n",
       "      <td>3</td>\n",
       "      <td>13</td>\n",
       "      <td>12.801944</td>\n",
       "    </tr>\n",
       "    <tr>\n",
       "      <th>1</th>\n",
       "      <td>1</td>\n",
       "      <td>3.218680</td>\n",
       "      <td>2</td>\n",
       "      <td>10.0</td>\n",
       "      <td>0.00</td>\n",
       "      <td>587.151523</td>\n",
       "      <td>4512.923924</td>\n",
       "      <td>584.850489</td>\n",
       "      <td>4512.632082</td>\n",
       "      <td>12.666667</td>\n",
       "      <td>6</td>\n",
       "      <td>16</td>\n",
       "      <td>20.961389</td>\n",
       "    </tr>\n",
       "    <tr>\n",
       "      <th>2</th>\n",
       "      <td>1</td>\n",
       "      <td>2.574944</td>\n",
       "      <td>1</td>\n",
       "      <td>7.0</td>\n",
       "      <td>2.49</td>\n",
       "      <td>587.005357</td>\n",
       "      <td>4513.359700</td>\n",
       "      <td>585.434188</td>\n",
       "      <td>4513.174964</td>\n",
       "      <td>5.516667</td>\n",
       "      <td>0</td>\n",
       "      <td>31</td>\n",
       "      <td>20.412778</td>\n",
       "    </tr>\n",
       "    <tr>\n",
       "      <th>3</th>\n",
       "      <td>1</td>\n",
       "      <td>0.965604</td>\n",
       "      <td>1</td>\n",
       "      <td>7.5</td>\n",
       "      <td>1.65</td>\n",
       "      <td>586.648975</td>\n",
       "      <td>4511.729212</td>\n",
       "      <td>586.671530</td>\n",
       "      <td>4512.554065</td>\n",
       "      <td>9.883333</td>\n",
       "      <td>1</td>\n",
       "      <td>25</td>\n",
       "      <td>13.031389</td>\n",
       "    </tr>\n",
       "    <tr>\n",
       "      <th>4</th>\n",
       "      <td>1</td>\n",
       "      <td>2.462290</td>\n",
       "      <td>1</td>\n",
       "      <td>7.5</td>\n",
       "      <td>1.66</td>\n",
       "      <td>586.967178</td>\n",
       "      <td>4511.894301</td>\n",
       "      <td>585.262474</td>\n",
       "      <td>4511.755477</td>\n",
       "      <td>8.683333</td>\n",
       "      <td>2</td>\n",
       "      <td>5</td>\n",
       "      <td>7.703333</td>\n",
       "    </tr>\n",
       "    <tr>\n",
       "      <th>5</th>\n",
       "      <td>5</td>\n",
       "      <td>1.561060</td>\n",
       "      <td>1</td>\n",
       "      <td>7.5</td>\n",
       "      <td>2.20</td>\n",
       "      <td>585.926415</td>\n",
       "      <td>4512.880385</td>\n",
       "      <td>585.168973</td>\n",
       "      <td>4511.540103</td>\n",
       "      <td>9.433333</td>\n",
       "      <td>3</td>\n",
       "      <td>20</td>\n",
       "      <td>20.667222</td>\n",
       "    </tr>\n",
       "    <tr>\n",
       "      <th>6</th>\n",
       "      <td>1</td>\n",
       "      <td>2.574944</td>\n",
       "      <td>1</td>\n",
       "      <td>8.0</td>\n",
       "      <td>1.00</td>\n",
       "      <td>586.731409</td>\n",
       "      <td>4515.084445</td>\n",
       "      <td>588.710175</td>\n",
       "      <td>4514.209184</td>\n",
       "      <td>7.950000</td>\n",
       "      <td>5</td>\n",
       "      <td>8</td>\n",
       "      <td>23.841944</td>\n",
       "    </tr>\n",
       "    <tr>\n",
       "      <th>7</th>\n",
       "      <td>1</td>\n",
       "      <td>0.804670</td>\n",
       "      <td>2</td>\n",
       "      <td>5.0</td>\n",
       "      <td>0.00</td>\n",
       "      <td>585.344614</td>\n",
       "      <td>4509.712541</td>\n",
       "      <td>585.843967</td>\n",
       "      <td>4509.545089</td>\n",
       "      <td>4.950000</td>\n",
       "      <td>5</td>\n",
       "      <td>29</td>\n",
       "      <td>15.831389</td>\n",
       "    </tr>\n",
       "    <tr>\n",
       "      <th>8</th>\n",
       "      <td>1</td>\n",
       "      <td>3.653202</td>\n",
       "      <td>1</td>\n",
       "      <td>10.0</td>\n",
       "      <td>1.10</td>\n",
       "      <td>585.422062</td>\n",
       "      <td>4509.477536</td>\n",
       "      <td>583.671081</td>\n",
       "      <td>4507.735573</td>\n",
       "      <td>11.066667</td>\n",
       "      <td>5</td>\n",
       "      <td>8</td>\n",
       "      <td>2.098333</td>\n",
       "    </tr>\n",
       "    <tr>\n",
       "      <th>9</th>\n",
       "      <td>6</td>\n",
       "      <td>1.625433</td>\n",
       "      <td>1</td>\n",
       "      <td>5.5</td>\n",
       "      <td>1.36</td>\n",
       "      <td>587.875433</td>\n",
       "      <td>4514.931073</td>\n",
       "      <td>587.701248</td>\n",
       "      <td>4513.709691</td>\n",
       "      <td>4.216667</td>\n",
       "      <td>3</td>\n",
       "      <td>13</td>\n",
       "      <td>21.783056</td>\n",
       "    </tr>\n",
       "  </tbody>\n",
       "</table>\n",
       "</div>"
      ],
      "text/plain": [
       "   passenger_count  trip_distance  payment_type  fare_amount  tip_amount  \\\n",
       "0                2       2.768065             2          9.5        0.00   \n",
       "1                1       3.218680             2         10.0        0.00   \n",
       "2                1       2.574944             1          7.0        2.49   \n",
       "3                1       0.965604             1          7.5        1.65   \n",
       "4                1       2.462290             1          7.5        1.66   \n",
       "5                5       1.561060             1          7.5        2.20   \n",
       "6                1       2.574944             1          8.0        1.00   \n",
       "7                1       0.804670             2          5.0        0.00   \n",
       "8                1       3.653202             1         10.0        1.10   \n",
       "9                6       1.625433             1          5.5        1.36   \n",
       "\n",
       "   pickup_easting  pickup_northing  dropoff_easting  dropoff_northing  \\\n",
       "0      586.996941      4512.979705       588.155118       4515.180889   \n",
       "1      587.151523      4512.923924       584.850489       4512.632082   \n",
       "2      587.005357      4513.359700       585.434188       4513.174964   \n",
       "3      586.648975      4511.729212       586.671530       4512.554065   \n",
       "4      586.967178      4511.894301       585.262474       4511.755477   \n",
       "5      585.926415      4512.880385       585.168973       4511.540103   \n",
       "6      586.731409      4515.084445       588.710175       4514.209184   \n",
       "7      585.344614      4509.712541       585.843967       4509.545089   \n",
       "8      585.422062      4509.477536       583.671081       4507.735573   \n",
       "9      587.875433      4514.931073       587.701248       4513.709691   \n",
       "\n",
       "    duration  day_of_week  day_of_month  time_of_day  \n",
       "0  11.516667            3            13    12.801944  \n",
       "1  12.666667            6            16    20.961389  \n",
       "2   5.516667            0            31    20.412778  \n",
       "3   9.883333            1            25    13.031389  \n",
       "4   8.683333            2             5     7.703333  \n",
       "5   9.433333            3            20    20.667222  \n",
       "6   7.950000            5             8    23.841944  \n",
       "7   4.950000            5            29    15.831389  \n",
       "8  11.066667            5             8     2.098333  \n",
       "9   4.216667            3            13    21.783056  "
      ]
     },
     "execution_count": 2,
     "metadata": {},
     "output_type": "execute_result"
    }
   ],
   "source": [
    "data_file = 'https://technion046195.github.io/semester_2019_spring/datasets/nyc_taxi_rides.csv'\n",
    "\n",
    "## Loading the data\n",
    "dataset = pd.read_csv(data_file)\n",
    "\n",
    "## Print the number of rows in the data set\n",
    "number_of_rows = len(dataset)\n",
    "print_math('Number of rows in the dataset: $N={}$'.format(number_of_rows))\n",
    "\n",
    "## Show the first 10 rows\n",
    "dataset.head(10)"
   ]
  },
  {
   "cell_type": "markdown",
   "metadata": {},
   "source": [
    "### The Data Fields and Types\n",
    "In this exercise we will only by interested in the following column:\n",
    "\n",
    "- **duration**: The total duration of the ride (in minutes)"
   ]
  },
  {
   "cell_type": "markdown",
   "metadata": {},
   "source": [
    "###  Plotting the data\n",
    "Let us plot again the histogram of the durations"
   ]
  },
  {
   "cell_type": "code",
   "execution_count": null,
   "metadata": {},
   "outputs": [
    {
     "data": {
      "image/png": "[encoded data removed]",
      "text/plain": [
       "<Figure size 450x450 with 1 Axes>"
      ]
     },
     "metadata": {
      "needs_background": "light"
     },
     "output_type": "display_data"
    }
   ],
   "source": [
    "## Prepare the figure\n",
    "fig, ax = plt.subplots()\n",
    "ax.hist(dataset['duration'].values, bins=300 ,density=True)\n",
    "ax.set_title('Historgram of Durations')\n",
    "ax.set_ylabel('PDF')\n",
    "ax.set_xlabel('Duration [min]');"
   ]
  },
  {
   "cell_type": "markdown",
   "metadata": {},
   "source": [
    "## 📜 Problem Definition\n",
    "\n",
    "As same as last time:\n",
    "- The underlying process: A random phenomenon generating taxi rides along with there details\n",
    "- The task and goal: To find the distribution of rids duration, represented as a PDF."
   ]
  },
  {
   "cell_type": "markdown",
   "metadata": {},
   "source": [
    "### 📚 Splitting the dataset\n",
    "\n",
    "We will split the data into 80% train set and 20% test set for later evaluations.\n",
    "\n",
    "(Although we will not be using the test set in this workshop, it is a good practice to always start by splitting the data)"
   ]
  },
  {
   "cell_type": "code",
   "execution_count": null,
   "metadata": {},
   "outputs": [],
   "source": [
    "n_samples = len(dataset)\n",
    "\n",
    "## Generate a random generator with a fixed seed\n",
    "rand_gen = np.random.RandomState(0)\n",
    "\n",
    "## Generating a vector of indices\n",
    "indices = np.arange(n_samples)\n",
    "\n",
    "## Shuffle the indices\n",
    "rand_gen.shuffle(indices)\n",
    "\n",
    "## Split the indices into 80% train / 20% test\n",
    "n_samples_train = int(n_samples * 0.8)\n",
    "train_indices = indices[:n_samples_train]\n",
    "test_indices = indices[n_samples_train:]\n",
    "\n",
    "train_set = dataset.iloc[train_indices]\n",
    "test_set = dataset.iloc[test_indices]"
   ]
  },
  {
   "cell_type": "markdown",
   "metadata": {},
   "source": [
    "## 💡 Model & Learning Method Suggestion 1 : Normal Distribution + MLE\n",
    "\n",
    "In this case we will suggest a **normal distribution** as our model. A general normal distribution is define by 2 parameters, it's mean value $\\mu$ and it's standard deviation $\\sigma$.\n",
    "\n",
    "In addition, in this step we would want to decide on a method for selecting the model's parameters, in this case we will take the **MLE (Maximum Likelihood Estimation)** approach. This special case of MLE and a normal distribution can be solve analytically. Sadly, this is will not be true in the general case, and we will have to resort to numerical solutions."
   ]
  },
  {
   "cell_type": "markdown",
   "metadata": {},
   "source": [
    "## ⚙️ Learning\n",
    "\n",
    "### ✍️ Exercise 3.1 - MLE + Normal Distribution\n",
    "\n",
    "1. Use the MLE approach to estimate the PDF of rides duration as a normal distribution.\n",
    "2. Plot the estimated PDF on top of an histogram of the rides duration.\n",
    "3. By looking at the two plots, do you thinks that the Gaussian distribution is a good approximation for the data distribution?"
   ]
  },
  {
   "cell_type": "markdown",
   "metadata": {},
   "source": [
    "#### Solution 3.1-1\n",
    "\n",
    "(Solution seen in the lecture, appears here only for completeness)\n",
    "\n",
    "Se shall denote:\n",
    "- $p_\\text{normal}\\left(x;\\mu,\\sigma\\right)$ - The PDF of a normal distribution with mean $\\mu$ and standard deviation $\\sigma$.\n",
    "- $\\boldsymbol{\\theta}$ - the vector $\\boldsymbol{\\theta}=\\left[\\mu,\\sigma\\right]^T$.\n",
    "- $N$ - The number of samples points in the train set.\n",
    "\n",
    "The Normal distribution is defined by:\n",
    "$$\n",
    "p_\\text{normal}\\left(x;\\boldsymbol{\\theta}\\right)=p_\\text{normal}\\left(x;\\mu,\\sigma\\right)=\\frac{1}{\\sqrt{2\\pi\\sigma^2}}\\exp\\left(-\\frac{\\left(x-\\mu\\right)^2}{2\\sigma^2}\\right)\n",
    "$$"
   ]
  },
  {
   "cell_type": "markdown",
   "metadata": {},
   "source": [
    "Given a set of independent sample $\\left\\{x_i\\right\\}$, the likelihood function is given as:\n",
    "\n",
    "$$\n",
    "\\mathcal{L}_\\text{normal}\\left(\\boldsymbol{\\theta}\\right\\{x\\}) \n",
    " = \\prod_i p_\\text{normal}\\left(x_i;\\boldsymbol{\\theta}\\right)\n",
    "$$\n",
    "\n",
    "The log-likelihood function for the normal distribution model is then:\n",
    "$$\n",
    "\\begin{align*}\n",
    "l_\\text{normal}\\left(\\boldsymbol{\\theta};\\{x\\}\\right)\n",
    "& = \\log\\left(\\mathcal{L}_\\text{normal}\\left(\\boldsymbol{\\theta}\\right|\\{x\\})\\right) \\\\\n",
    "& = \\log\\left(\\prod_i p_\\text{normal}\\left(x_i;\\boldsymbol{\\theta}\\right)\\right) \\\\\n",
    "& = \\sum_i\\log\\left(p_\\text{normal}\\left(x_i;\\boldsymbol{\\theta}\\right)\\right) \\\\\n",
    "& = \\sum_i\\log\\left(\\frac{1}{\\sqrt{2\\pi\\sigma^2}}\\exp\\left(-\\frac{\\left(x_i-\\mu\\right)^2}{2\\sigma^2}\\right)\\right) \\\\\n",
    "& = -N\\log\\left(\\sqrt{2\\pi}\\sigma\\right)-\\frac{1}{2\\sigma^2}\\sum_i\\left(x_i-\\mu\\right)^2 \\\\\n",
    "\\end{align*}\n",
    "$$\n",
    "\n",
    "\n",
    "Under the MLE approach, the optimal parameters $\\boldsymbol{\\theta}^*$ for the model are given by\n",
    "\n",
    "$$\n",
    "\\begin{align*}\n",
    "\\boldsymbol{\\theta}^*\n",
    "& = \\underset{\\boldsymbol{\\theta}}{\\arg\\min}\\ -l_\\text{normal}\\left(\\boldsymbol{\\theta};\\{x\\}\\right) \\\\\n",
    "& = \\underset{\\boldsymbol{\\theta}=\\left(\\mu,\\sigma\\right)^T}{\\arg\\min}\\ N\\log\\left(\\sqrt{2\\pi}\\sigma\\right)+\\frac{1}{2\\sigma^2}\\sum_i\\left(x_i-\\mu\\right)^2 \\\\\n",
    "\\end{align*}\n",
    "$$"
   ]
  },
  {
   "cell_type": "markdown",
   "metadata": {},
   "source": [
    "We shall find $\\boldsymbol{\\theta}^*$ by comparing the derivative of the log-likelihood function to zero.\n",
    "\n",
    "$$\n",
    "\\begin{align*}\n",
    "& \\begin{cases}\n",
    "\\displaystyle{\\frac{\\partial l\\left(\\boldsymbol{\\theta}|\\{x\\}\\right)}{\\partial\\mu}}=0 \\\\\n",
    "\\displaystyle{\\frac{\\partial l\\left(\\boldsymbol{\\theta}|\\{x\\}\\right)}{\\partial\\sigma}}=0 \\\\\n",
    "\\end{cases}\n",
    "\\\\\n",
    "\\Leftrightarrow & \\begin{cases}\n",
    "\\displaystyle{\\frac{\\sum_i\\left(x_i-\\mu\\right)}{\\sigma^2}}=0 \\\\\n",
    "\\displaystyle{-\\frac{N}{\\sigma}+\\frac{2\\sum_i\\left(x_i-\\mu\\right)^2}{2\\sigma^3}}=0 \\\\\n",
    "\\end{cases}\\\\\n",
    "\\Leftrightarrow & \\begin{cases}\n",
    "\\mu=\\displaystyle{\\frac{1}{N}\\sum_i x_i} \\\\\n",
    "\\sigma=\\sqrt{\\displaystyle{\\frac{1}{N}\\sum_i\\left(x_i-\\mu\\right)^2}} \\\\\n",
    "\\end{cases}\n",
    "\\end{align*}\n",
    "$$"
   ]
  },
  {
   "cell_type": "markdown",
   "metadata": {},
   "source": [
    "The actual calculation:"
   ]
  },
  {
   "cell_type": "code",
   "execution_count": null,
   "metadata": {},
   "outputs": [
    {
     "data": {
      "text/html": [
       "<p><script type=\"text/x-mathjax-config\">MathJax.Hub.Config({tex2jax: {inlineMath: [['$','$'], ['\\\\(','\\\\)']]}});</script><script src='https://cdnjs.cloudflare.com/ajax/libs/mathjax/2.7.3/latest.js?config=TeX-AMS_CHTML'></script>$\\mu = 11.4\\ \\text{min}$</p>"
      ],
      "text/plain": [
       "<IPython.core.display.HTML object>"
      ]
     },
     "metadata": {},
     "output_type": "display_data"
    },
    {
     "data": {
      "text/html": [
       "<p><script type=\"text/x-mathjax-config\">MathJax.Hub.Config({tex2jax: {inlineMath: [['$','$'], ['\\\\(','\\\\)']]}});</script><script src='https://cdnjs.cloudflare.com/ajax/libs/mathjax/2.7.3/latest.js?config=TeX-AMS_CHTML'></script>$\\sigma = 7.0\\ \\text{min}$</p>"
      ],
      "text/plain": [
       "<IPython.core.display.HTML object>"
      ]
     },
     "metadata": {},
     "output_type": "display_data"
    }
   ],
   "source": [
    "## extarcting the samples\n",
    "x = train_set['duration'].values\n",
    "\n",
    "## Normal distribution parameters\n",
    "mu = np.sum(x) / len(x)\n",
    "sigma = np.sqrt(np.sum((x - mu) ** 2) / len(x))\n",
    "\n",
    "print_math('$\\\\mu = {:.01f}\\\\ \\\\text{{min}}$'.format(mu))\n",
    "print_math('$\\\\sigma = {:.01f}\\\\ \\\\text{{min}}$'.format(sigma))"
   ]
  },
  {
   "cell_type": "markdown",
   "metadata": {},
   "source": [
    "From here on we will use [np.mean](http://lagrange.univ-lyon1.fr/docs/numpy/1.11.0/reference/generated/numpy.mean.html) and [np.std](http://lagrange.univ-lyon1.fr/docs/numpy/1.11.0/reference/generated/numpy.std.html) functions to calculate the mean and standard deviation.\n",
    "\n",
    "In addition [scipy.stats](https://docs.scipy.org/doc/scipy/reference/stats.html) has a wide range of distribution models. Each model comes with a set of methods for calculating the CDF, PDF, performing MLE fit, generate samples and more."
   ]
  },
  {
   "cell_type": "markdown",
   "metadata": {},
   "source": [
    "#### Solution 3.1-2\n",
    "\n",
    "We shall plot the estimated PDF on top of the histogram."
   ]
  },
  {
   "cell_type": "code",
   "execution_count": null,
   "metadata": {},
   "outputs": [
    {
     "data": {
      "image/png": "[encoded data removed]",
      "text/plain": [
       "<Figure size 450x450 with 1 Axes>"
      ]
     },
     "metadata": {
      "needs_background": "light"
     },
     "output_type": "display_data"
    }
   ],
   "source": [
    "## Define the grid\n",
    "grid = np.arange(-10, 60 + 0.1, 0.1)\n",
    "\n",
    "## Import the normal distribution model from SciPy\n",
    "from scipy.stats import norm\n",
    "\n",
    "## Define the normal distribution object\n",
    "norm_dist = norm(mu, sigma)\n",
    "\n",
    "## Calculate the normal distribution PDF over the grid\n",
    "norm_pdf = norm_dist.pdf(grid)\n",
    "\n",
    "## Prepare the figure\n",
    "fig, ax = plt.subplots()\n",
    "ax.hist(dataset['duration'].values, bins=300 ,density=True, label='Histogram')\n",
    "ax.plot(grid, norm_pdf, label='Normal')\n",
    "ax.set_title('Distribution of Durations')\n",
    "ax.set_ylabel('PDF')\n",
    "ax.set_xlabel('Duration [min]')\n",
    "ax.legend();"
   ]
  },
  {
   "cell_type": "markdown",
   "metadata": {},
   "source": [
    "#### Solution 3.1-3\n",
    "\n",
    "Since we did not define any actual evaluation method, we will estimate how good is the density estimation in a qualitative manner rather then a quantitative one. We will do so by looking at how similar it is to the histogram.\n",
    "\n",
    "It seems that the normal distribution gives a very rough approximation of the real distribution. In some cases this would be good enough as a first order approximation, but in this case we would like to do better.\n",
    "\n",
    "One very disturbing fact, for example, is the that there is a non zero probability to get negative ride durations, which is obviously not realistic.\n",
    "\n",
    "Let us try to propose a better model in order to get a better approximation."
   ]
  },
  {
   "cell_type": "markdown",
   "metadata": {},
   "source": [
    "## 💡 Model & Learning Method Suggestion 2 : Rayleigh Distribution + MLE\n",
    "\n",
    "The Rayleigh distribution describes the distribution of the magnitude of a 2D Gaussian vector with zero mean and no correlation between it's two components. I.e. if $Z$ has the following distribution:\n",
    "\n",
    "$$\n",
    "\\boldsymbol{Z}\\sim N\\left(\\begin{bmatrix} 0 \\\\ 0 \\end{bmatrix}, \\begin{bmatrix} \\sigma & 0 \\\\ 0 & \\sigma \\end{bmatrix}\\right)\n",
    "$$\n",
    "\n",
    "Than $\\left\\lVert\\boldsymbol{Z}\\right\\rVert_2=\\sqrt{Z_x^2+Z_y^2}$ has a Rayleigh distribution.\n",
    "\n",
    "The PDF of the Rayleigh distribution is given by:\n",
    "\n",
    "$$\n",
    "p_\\text{Rayleigh}\\left(z;\\sigma\\right)=\\frac{z}{\\sigma^2}\\exp\\left({-\\frac{z^2}{2\\sigma^2}}\\right), \\quad z\\geq0\n",
    "$$\n",
    "\n",
    "Notice that here the distribution is only defined for positive values. The Rayleigh distribution has only one parameter $\\sigma$ which is called the scale parameter. Unlike in case of the normal distribution, here $\\sigma$ is not equal to the standard deviation.\n",
    "\n",
    "For consistency we will denote the 1D vector of parameters: $\\boldsymbol{\\theta}=\\left[\\sigma\\right]$"
   ]
  },
  {
   "cell_type": "markdown",
   "metadata": {},
   "source": [
    "We will now give a short motivation for preferring the Rayleigh distribution. This section can be skipped, and the Rayleigh distribution can be assumed to be simply selected as a good guess.\n",
    "\n",
    "### Motivation For Using Rayleigh Distribution\n",
    "\n",
    "We have started with an assumption that the duration a taxi ride is normally distributed. Let us instead assume that the quantity which is normally distributed is the 2D distance $\\boldsymbol{D}$, between the pickup location to the drop off location.\n",
    "\n",
    "I.e., we are assuming that the random variable $\\boldsymbol{D}$ is a 2D Gaussian vector. For simplicity, we will also assume that the $x$ and $y$ components of $\\boldsymbol{D}$ are uncorrelated with equal variance and zero mean. I.e. we assume that:\n",
    "\n",
    "$$\n",
    "\\boldsymbol{D}\\sim N\\left(\\begin{bmatrix} 0 \\\\ 0 \\end{bmatrix}, \\begin{bmatrix} \\sigma_D & 0 \\\\ 0 & \\sigma_D \\end{bmatrix}\\right)\n",
    "$$\n",
    "\n",
    "In addition, let us also assume that the taxis speed, $v$ is constant. Therefore the relation between the ride duration $X$ and the distance vector $\\boldsymbol{D}$ is:\n",
    "\n",
    "$$\n",
    "X = \\frac{\\left\\lVert D\\right\\rVert_2}{v}\n",
    "$$\n",
    "\n",
    "In this case $x$ will have a Rayleigh distribution with a scale parameter $\\sigma=\\frac{\\sigma_D}{v}$"
   ]
  },
  {
   "cell_type": "markdown",
   "metadata": {},
   "source": [
    "## ⚙️ Learning\n",
    "\n",
    "### ✍️  Exercise 3.2 - MLE + Rayleigh Distribution\n",
    "\n",
    "Repeat the process using the Rayleigh distribution "
   ]
  },
  {
   "cell_type": "markdown",
   "metadata": {},
   "source": [
    "#### Solution 3.2\n",
    "\n",
    "The log likelihood function in this case given by:\n",
    "$$\n",
    "\\begin{align*}\n",
    "l_\\text{rayleigh}\\left(\\boldsymbol{\\theta}|\\{x\\}\\right) \n",
    "& = \\sum_i\\log\\left(p_\\text{rayleigh}\\left(x_i;\\boldsymbol{\\theta}\\right)\\right) \\\\\n",
    "& = \\sum_i\\log\\left(x_i\\right)-2N\\log\\left(\\sigma\\right)-\\frac{1}{2\\sigma^2}\\sum_ix^2\n",
    "\\end{align*}\n",
    "$$\n",
    "\n",
    "Under the MLE approach,optimal parameters, are defined by $\\boldsymbol{\\theta}^*=\\underset{\\boldsymbol{\\theta}}{\\arg\\min}\\ -l_\\text{rayleigh}\\left(\\boldsymbol{\\theta}|\\{x\\}\\right)$.\n",
    "\n",
    "Like before, we will solve this by differentiating and comparing to zero:\n",
    "\n",
    "$$\n",
    "\\frac{\\partial l_\\text{rayleigh}\\left(\\theta|\\{x\\}\\right)}{\\partial\\sigma}=0 \\\\\n",
    "\\Leftrightarrow -\\frac{2N}{\\sigma}+\\frac{\\sum_ix^2}{\\sigma^3}=0 \\\\\n",
    "\\Leftrightarrow \\sigma = \\sqrt{\\frac{1}{2N}\\sum_i x^2}\n",
    "$$\n",
    "\n",
    "The actual calculation and plot:"
   ]
  },
  {
   "cell_type": "code",
   "execution_count": null,
   "metadata": {},
   "outputs": [
    {
     "data": {
      "text/html": [
       "<p><script type=\"text/x-mathjax-config\">MathJax.Hub.Config({tex2jax: {inlineMath: [['$','$'], ['\\\\(','\\\\)']]}});</script><script src='https://cdnjs.cloudflare.com/ajax/libs/mathjax/2.7.3/latest.js?config=TeX-AMS_CHTML'></script>$\\sigma = 9.5$</p>"
      ],
      "text/plain": [
       "<IPython.core.display.HTML object>"
      ]
     },
     "metadata": {},
     "output_type": "display_data"
    },
    {
     "data": {
      "image/png": "[encoded data removed]",
      "text/plain": [
       "<Figure size 450x450 with 1 Axes>"
      ]
     },
     "metadata": {
      "needs_background": "light"
     },
     "output_type": "display_data"
    }
   ],
   "source": [
    "## Import the normal distribution model from SciPy\n",
    "from scipy.stats import rayleigh\n",
    "\n",
    "## Find the model's parameters using SciPy\n",
    "_, sigma = rayleigh.fit(x, floc=0)  ## equivalent to running: sigma = np.sqrt(np.sum(x ** 2) / len(x) / 2)\n",
    "\n",
    "print_math('$\\\\sigma = {:.01f}$'.format(sigma))\n",
    "\n",
    "## Define the Rayleigh distribution object\n",
    "rayleigh_dist = rayleigh(0, sigma)\n",
    "\n",
    "## Calculate the Rayleigh distribution PDF over the grid\n",
    "rayleigh_pdf = rayleigh_dist.pdf(grid)\n",
    "\n",
    "## Prepare the figure\n",
    "fig, ax = plt.subplots()\n",
    "ax.hist(dataset['duration'].values, bins=300 ,density=True, label='Histogram')\n",
    "ax.plot(grid, norm_pdf, label='Normal')\n",
    "ax.plot(grid, rayleigh_pdf, label='Rayleigh')\n",
    "ax.set_title('Distribution of Durations')\n",
    "ax.set_ylabel('PDF')\n",
    "ax.set_xlabel('Duration [min]')\n",
    "ax.legend();"
   ]
  },
  {
   "cell_type": "markdown",
   "metadata": {},
   "source": [
    "Judging by the similarity to the histogram, the Rayleigh distribution does a slightly better job at approximating the distribution and solves the negative values problem. \n",
    "\n",
    "Let us try one more model."
   ]
  },
  {
   "cell_type": "markdown",
   "metadata": {},
   "source": [
    "## 💡 Model & Learning Method Suggestion 3 : Generalized Gamma Distribution + MLE\n",
    "\n",
    "The Rayleigh distribution is a special case of a more general family of distributions called the Generalized Gamma distribution. The PDF of the Generalized Gamma distribution is given by the following complex expression:\n",
    "\n",
    "$$\n",
    "p_\\text{gengamma}\\left(z;\\sigma,a,c\\right)=\n",
    "\\frac{cz^{ca-1}\\exp\\left(-\\left(z/\\sigma\\right)^c\\right)}{\\sigma^{ca-1}\\Gamma\\left(a\\right)}\n",
    ", \\quad z\\geq0\n",
    "$$\n",
    "\n",
    "($\\Gamma$ here is the [gamma function](https://en.wikipedia.org/wiki/Gamma_function))\n",
    "\n",
    "For $c=2$ and $a=1$ we get the Rayleigh distribution.\n",
    "\n",
    "Unlike the case of the normal and Rayleigh distributions, here we will not be able to find a simple analytic solution for the optimal MLE parameters. However we can use numerical methods for finding the optimal parameters. In practice we will use [SciPy's model for the General Gamma distribution](https://docs.scipy.org/doc/scipy/reference/generated/scipy.stats.gengamma.html#scipy.stats.gengamma) to find the optimal parameters."
   ]
  },
  {
   "cell_type": "markdown",
   "metadata": {},
   "source": [
    "## ⚙️ Learning\n",
    "\n",
    "### Exercise 3.3 - MLE + Generalized Gamma  Distribution\n",
    "\n",
    "Repeat the process using the Generalized Gamma distribution. Use SciPy to calculated the MLE parameters."
   ]
  },
  {
   "cell_type": "markdown",
   "metadata": {},
   "source": [
    "### Solution 3.3"
   ]
  },
  {
   "cell_type": "code",
   "execution_count": null,
   "metadata": {},
   "outputs": [
    {
     "data": {
      "text/html": [
       "<p><script type=\"text/x-mathjax-config\">MathJax.Hub.Config({tex2jax: {inlineMath: [['$','$'], ['\\\\(','\\\\)']]}});</script><script src='https://cdnjs.cloudflare.com/ajax/libs/mathjax/2.7.3/latest.js?config=TeX-AMS_CHTML'></script>$a = 4.4$</p>"
      ],
      "text/plain": [
       "<IPython.core.display.HTML object>"
      ]
     },
     "metadata": {},
     "output_type": "display_data"
    },
    {
     "data": {
      "text/html": [
       "<p><script type=\"text/x-mathjax-config\">MathJax.Hub.Config({tex2jax: {inlineMath: [['$','$'], ['\\\\(','\\\\)']]}});</script><script src='https://cdnjs.cloudflare.com/ajax/libs/mathjax/2.7.3/latest.js?config=TeX-AMS_CHTML'></script>$c = 0.8$</p>"
      ],
      "text/plain": [
       "<IPython.core.display.HTML object>"
      ]
     },
     "metadata": {},
     "output_type": "display_data"
    },
    {
     "data": {
      "text/html": [
       "<p><script type=\"text/x-mathjax-config\">MathJax.Hub.Config({tex2jax: {inlineMath: [['$','$'], ['\\\\(','\\\\)']]}});</script><script src='https://cdnjs.cloudflare.com/ajax/libs/mathjax/2.7.3/latest.js?config=TeX-AMS_CHTML'></script>$\\sigma = 1.6$</p>"
      ],
      "text/plain": [
       "<IPython.core.display.HTML object>"
      ]
     },
     "metadata": {},
     "output_type": "display_data"
    },
    {
     "data": {
      "image/png": "[encoded data removed]",
      "text/plain": [
       "<Figure size 450x450 with 1 Axes>"
      ]
     },
     "metadata": {
      "needs_background": "light"
     },
     "output_type": "display_data"
    }
   ],
   "source": [
    "## Import the normal distribution model from SciPy\n",
    "from scipy.stats import gengamma\n",
    "\n",
    "## Find the model's parameters using SciPy\n",
    "a, c, _, sigma  = gengamma.fit(x, floc=0)\n",
    "\n",
    "print_math('$a = {:.01f}$'.format(a))\n",
    "print_math('$c = {:.01f}$'.format(c))\n",
    "print_math('$\\\\sigma = {:.01f}$'.format(sigma))\n",
    "\n",
    "## Define the generalized gamma distribution object\n",
    "gengamma_dist = gengamma(a, c, 0, sigma)\n",
    "\n",
    "## Calculate the generalized gamma distribution PDF over the grid\n",
    "gengamma_pdf = gengamma_dist.pdf(grid)\n",
    "\n",
    "## Prepare the figure\n",
    "fig, ax = plt.subplots()\n",
    "ax.hist(dataset['duration'].values, bins=300 ,density=True, label='Histogram')\n",
    "ax.plot(grid, norm_pdf, label='Normal')\n",
    "ax.plot(grid, rayleigh_pdf, label='Rayleigh')\n",
    "ax.plot(grid, gengamma_pdf, label='Generalized Gamma')\n",
    "ax.set_title('Distribution of Durations')\n",
    "ax.set_ylabel('PDF')\n",
    "ax.set_xlabel('Duration [min]')\n",
    "ax.legend();"
   ]
  },
  {
   "cell_type": "markdown",
   "metadata": {},
   "source": [
    "The Generalized Gamma distribution results in a distribution with a PDF which is much similar to the shape of the histogram."
   ]
  },
  {
   "cell_type": "markdown",
   "metadata": {},
   "source": [
    "## 🧸 Toy Model\n",
    "\n",
    "In this exercise we will take a look at a very simple toy example. Consider the following process:\n",
    "1. A random number $a$ is generated once following the normal distribution: $a \\sim N\\left(0, \\sigma_A^2\\right)$\n",
    "2. A series of random numbers $\\left\\{x_i\\right\\}$ is then generated independently following the normal distribution: $X \\sim N\\left(a, \\sigma_X^2\\right)$\n",
    "\n",
    "We would look at a few cases of estimating the distribution of $X$.\n",
    "\n",
    "### ✍️ Exercise 3.4 - MAP and a Toy Model\n",
    "\n",
    "1. Start by using the exact model which generates the data, i.e. a normal distribution with a known standard deviation of $\\sigma_X$ and mean value which is normally distributed with mean value 0 and a standard deviation of $\\sigma_A$. Use the  MAP approach to estimate the distribution of $X$ given a dataset $\\left\\{x_i\\right\\}$.\n",
    "\n",
    "2. Use $\\sigma_A=1$ and $\\sigma_X=3$ to randomly generate the dataset $\\left\\{x_i\\right\\}$ with a size of 10 samples. Using the MAP estimation, calculate the actual parameters and the estimation error between the true and the estimated mean value of $X$.\n",
    "\n",
    "3. Compare it to an estimation based on MLE.\n",
    "\n",
    "4. MAP works great when we have a good prior distribution. Let us see what happens if our prior is not that good. Repeat the process, but this time use $\\tilde{\\sigma}_A=\\left[0.25, 0.5, 2, 4\\right]$ for calculating the MAP estimation (instead of the real value of $\\sigma_A=1$)"
   ]
  },
  {
   "cell_type": "markdown",
   "metadata": {},
   "source": [
    "#### Solution 3.4-1\n",
    "\n",
    "Here we assume that the entire model is known including $\\sigma_A$ and $\\sigma_X$. However following the MAP approach we would like to find the specific parameters of of the distribution of the data $\\left\\{x_i\\right\\}$ which are most probable given the prior distribution and the data. In this case, of a normal distribution with a known standard deviation, the only parameter of the model is the distribution's mean value $a$, therefore we will define the vector of parameters $\\boldsymbol{\\theta}=\\left[a\\right]$.\n",
    "\n",
    "Under this approach we are looking for the model's optimal parameters according to:\n",
    "\n",
    "$$\n",
    "\\begin{align*}\n",
    "\\boldsymbol{\\theta}^*\n",
    "& = \\underset{\\boldsymbol{\\theta}}{\\arg\\max}\\ p\\left(\\left\\{x_i\\right\\}|\\boldsymbol{\\theta}\\right)p\\left(\\boldsymbol{\\theta}\\right) \\\\\n",
    "& = \\underset{\\boldsymbol{\\theta}}{\\arg\\min}\\ -\\log\\left(p\\left(\\left\\{x_i\\right\\}|\\boldsymbol{\\theta}\\right)\\right)-\\log\\left(p\\left(\\boldsymbol{\\theta}\\right)\\right)\\\\\n",
    "& = \\underset{\\boldsymbol{\\theta}}{\\arg\\min}\\ -\\sum_i\\log\\left(p\\left(x_i|\\boldsymbol{\\theta}\\right)\\right)-\\log\\left(p\\left(\\boldsymbol{\\theta}\\right)\\right)\\\\\n",
    "& = \\underset{\\boldsymbol{\\theta}}{\\arg\\min}\\ N\\log\\left(\\sqrt{2\\pi}\\sigma_X\\right)+\\frac{1}{2\\sigma_X^2}\\sum_i\\left(x_i-a\\right)^2 + \\log\\left(\\sqrt{2\\pi}\\sigma_A\\right)+\\frac{1}{2\\sigma_A^2}a^2\\\\\n",
    "& = \\underset{\\boldsymbol{\\theta}}{\\arg\\min}\\ \\frac{1}{2\\sigma_X^2}\\sum_i\\left(x_i-a\\right)^2 + \\frac{1}{2\\sigma_A^2}a^2\n",
    "\\end{align*}\n",
    "$$\n",
    "\n",
    "We will find $\\boldsymbol{\\theta}^*$ by differentiating and compare to zero:\n",
    "\n",
    "$$\n",
    "\\begin{align*}\n",
    "& \\frac{\\partial}{\\partial a}\\left[\\frac{1}{2\\sigma_X^2}\\sum_i\\left(x_i-a\\right)^2 + \\frac{1}{2\\sigma_A^2}a^2\\right] = 0 \\\\\n",
    "\\Leftrightarrow & \\frac{1}{\\sigma_X^2}\\sum_i\\left(a-x_i\\right) + \\frac{1}{\\sigma_A^2}a = 0 \\\\\n",
    "\\Leftrightarrow & \\left(\\frac{1}{\\sigma_A^2}+\\frac{N}{\\sigma_X^2}\\right)a = \\frac{\\sum_i x_i}{\\sigma_X^2} \\\\\n",
    "\\Leftrightarrow & a = \\frac{1}{\\frac{\\sigma_X^2 / N}{\\sigma_A^2}+1}\\frac{1}{N}\\sum_i x_i \\\\\n",
    "\\end{align*}\n",
    "$$"
   ]
  },
  {
   "cell_type": "markdown",
   "metadata": {},
   "source": [
    "#### Solution 3.4-2\n",
    "\n",
    "We shall generate the data and calculate the value of $a$ and the estimation error"
   ]
  },
  {
   "cell_type": "code",
   "execution_count": null,
   "metadata": {},
   "outputs": [
    {
     "data": {
      "text/html": [
       "<p><script type=\"text/x-mathjax-config\">MathJax.Hub.Config({tex2jax: {inlineMath: [['$','$'], ['\\\\(','\\\\)']]}});</script><script src='https://cdnjs.cloudflare.com/ajax/libs/mathjax/2.7.3/latest.js?config=TeX-AMS_CHTML'></script>The true mean value of $X$ is: $\\mu=a = 1.764$</p>"
      ],
      "text/plain": [
       "<IPython.core.display.HTML object>"
      ]
     },
     "metadata": {},
     "output_type": "display_data"
    },
    {
     "data": {
      "text/html": [
       "<p><script type=\"text/x-mathjax-config\">MathJax.Hub.Config({tex2jax: {inlineMath: [['$','$'], ['\\\\(','\\\\)']]}});</script><script src='https://cdnjs.cloudflare.com/ajax/libs/mathjax/2.7.3/latest.js?config=TeX-AMS_CHTML'></script>By using MAP we get:</p>"
      ],
      "text/plain": [
       "<IPython.core.display.HTML object>"
      ]
     },
     "metadata": {},
     "output_type": "display_data"
    },
    {
     "data": {
      "text/html": [
       "<p><script type=\"text/x-mathjax-config\">MathJax.Hub.Config({tex2jax: {inlineMath: [['$','$'], ['\\\\(','\\\\)']]}});</script><script src='https://cdnjs.cloudflare.com/ajax/libs/mathjax/2.7.3/latest.js?config=TeX-AMS_CHTML'></script>- $\\hat{\\mu}_\\text{MAP} = 1.838$</p>"
      ],
      "text/plain": [
       "<IPython.core.display.HTML object>"
      ]
     },
     "metadata": {},
     "output_type": "display_data"
    },
    {
     "data": {
      "text/html": [
       "<p><script type=\"text/x-mathjax-config\">MathJax.Hub.Config({tex2jax: {inlineMath: [['$','$'], ['\\\\(','\\\\)']]}});</script><script src='https://cdnjs.cloudflare.com/ajax/libs/mathjax/2.7.3/latest.js?config=TeX-AMS_CHTML'></script>- Estimation error: $\\left|\\hat{\\mu}_\\text{MAP}-\\mu\\right| = 0.074$</p>"
      ],
      "text/plain": [
       "<IPython.core.display.HTML object>"
      ]
     },
     "metadata": {},
     "output_type": "display_data"
    }
   ],
   "source": [
    "n_samples = 10\n",
    "sigma_x = 3\n",
    "sigma_a = 1\n",
    "\n",
    "## Generate a random generator with a fixed seed\n",
    "rand_gen = np.random.RandomState(0)\n",
    "\n",
    "## Draw a random value for a\n",
    "a = rand_gen.randn() * sigma_a\n",
    "\n",
    "## Draw N random samples for {x_i}\n",
    "x = rand_gen.randn(n_samples) * sigma_x + a\n",
    "\n",
    "## Calaulte the MAP estimation for the mean value\n",
    "mu_hat_map = sigma_a ** 2 / (sigma_x ** 2 / n_samples + sigma_a ** 2) * np.mean(x)\n",
    "\n",
    "## Calaulte the estimation error\n",
    "estimation_error_map = np.abs(mu_hat_map-a)\n",
    "\n",
    "print_math('The true mean value of $X$ is: $\\\\mu=a = {:.03f}$'.format(a))\n",
    "print_math('By using MAP we get:')\n",
    "print_math('- $\\\\hat{{\\\\mu}}_\\\\text{{MAP}} = {:.03f}$'.format(mu_hat_map))\n",
    "print_math('- Estimation error: $\\\\left|\\\\hat{{\\\\mu}}_\\\\text{{MAP}}-\\\\mu\\\\right| = {:.03f}$'.format(estimation_error_map))"
   ]
  },
  {
   "cell_type": "markdown",
   "metadata": {},
   "source": [
    "#### Solution 3.4-3\n",
    "\n",
    "We saw earlier that based on the MLE approach, the optimal mean value of a normal distribution is equal to the average value of the samples: $\\frac{1}{N}\\sum_i x_i$"
   ]
  },
  {
   "cell_type": "code",
   "execution_count": null,
   "metadata": {},
   "outputs": [
    {
     "data": {
      "text/html": [
       "<p><script type=\"text/x-mathjax-config\">MathJax.Hub.Config({tex2jax: {inlineMath: [['$','$'], ['\\\\(','\\\\)']]}});</script><script src='https://cdnjs.cloudflare.com/ajax/libs/mathjax/2.7.3/latest.js?config=TeX-AMS_CHTML'></script>By using MLE we get:</p>"
      ],
      "text/plain": [
       "<IPython.core.display.HTML object>"
      ]
     },
     "metadata": {},
     "output_type": "display_data"
    },
    {
     "data": {
      "text/html": [
       "<p><script type=\"text/x-mathjax-config\">MathJax.Hub.Config({tex2jax: {inlineMath: [['$','$'], ['\\\\(','\\\\)']]}});</script><script src='https://cdnjs.cloudflare.com/ajax/libs/mathjax/2.7.3/latest.js?config=TeX-AMS_CHTML'></script>- $\\hat{\\mu}_\\text{MLE} = 3.492$</p>"
      ],
      "text/plain": [
       "<IPython.core.display.HTML object>"
      ]
     },
     "metadata": {},
     "output_type": "display_data"
    },
    {
     "data": {
      "text/html": [
       "<p><script type=\"text/x-mathjax-config\">MathJax.Hub.Config({tex2jax: {inlineMath: [['$','$'], ['\\\\(','\\\\)']]}});</script><script src='https://cdnjs.cloudflare.com/ajax/libs/mathjax/2.7.3/latest.js?config=TeX-AMS_CHTML'></script>- Estimation error: $\\left|\\hat{\\mu}_\\text{MLE}-\\mu\\right| = 1.728$</p>"
      ],
      "text/plain": [
       "<IPython.core.display.HTML object>"
      ]
     },
     "metadata": {},
     "output_type": "display_data"
    }
   ],
   "source": [
    "## Calaulte the MLE estimation for the mean value\n",
    "mu_hat_mle = x.mean()\n",
    "\n",
    "## Calaulte the estimation error\n",
    "estimation_error_mle = np.abs(mu_hat_mle-a)\n",
    "\n",
    "print_math('By using MLE we get:')\n",
    "print_math('- $\\\\hat{{\\\\mu}}_\\\\text{{MLE}} = {:.03f}$'.format(mu_hat_mle))\n",
    "print_math('- Estimation error: $\\\\left|\\\\hat{{\\\\mu}}_\\\\text{{MLE}}-\\\\mu\\\\right| = {:.03f}$'.format(estimation_error_mle))"
   ]
  },
  {
   "cell_type": "markdown",
   "metadata": {},
   "source": [
    "Let us plot the two estimations along with the true distribution"
   ]
  },
  {
   "cell_type": "code",
   "execution_count": null,
   "metadata": {},
   "outputs": [
    {
     "data": {
      "image/png": "[encoded data removed]",
      "text/plain": [
       "<Figure size 450x450 with 1 Axes>"
      ]
     },
     "metadata": {
      "needs_background": "light"
     },
     "output_type": "display_data"
    }
   ],
   "source": [
    "## Define the grid\n",
    "grid = np.arange(-10, 10 + 0.1, 0.1)\n",
    "\n",
    "## Calculate the normal distribution PDF over the grid\n",
    "true_pdf = norm.pdf(grid, a, sigma_x)\n",
    "map_pdf = norm.pdf(grid, mu_hat_map, sigma_x)\n",
    "mle_pdf = norm.pdf(grid, mu_hat_mle, sigma_x)\n",
    "\n",
    "## Prepare the figure\n",
    "fig, ax = plt.subplots()\n",
    "ax.plot(grid, true_pdf, label='True')\n",
    "ax.plot(grid, map_pdf, label='MAP')\n",
    "ax.plot(grid, mle_pdf, label='MLE')\n",
    "ax.plot(x, np.zeros(x.shape), 'rx', label='Samples')\n",
    "ax.set_title('Distribution')\n",
    "ax.set_ylabel('PDF')\n",
    "ax.set_xlabel('X')\n",
    "ax.legend();"
   ]
  },
  {
   "cell_type": "markdown",
   "metadata": {},
   "source": [
    "In this example, the samples, drawn according to the true distribution, happened to be more concentrated on the left side of the Gaussian. This causes the MLE to give an estimation for the mean which is slightly higher then it's real value. By using the MAP approach along with the prior on $A$, which states that $A$ is more likely to have a value closer to zero, the estimation of the mean value gets closer to zero and also closer to the real mean value."
   ]
  },
  {
   "cell_type": "markdown",
   "metadata": {},
   "source": [
    "#### Solution 3.4-4\n",
    "\n",
    "We shall calculate the MAP estimation using $\\tilde{\\sigma}_A=\\left[0.25, 0.5, 1, 2, 4\\right]$"
   ]
  },
  {
   "cell_type": "code",
   "execution_count": null,
   "metadata": {},
   "outputs": [
    {
     "data": {
      "text/html": [
       "<p><script type=\"text/x-mathjax-config\">MathJax.Hub.Config({tex2jax: {inlineMath: [['$','$'], ['\\\\(','\\\\)']]}});</script><script src='https://cdnjs.cloudflare.com/ajax/libs/mathjax/2.7.3/latest.js?config=TeX-AMS_CHTML'></script>By using MAP with different values of $\\tilde{{\\sigma}}_A$ we get:</p>"
      ],
      "text/plain": [
       "<IPython.core.display.HTML object>"
      ]
     },
     "metadata": {},
     "output_type": "display_data"
    },
    {
     "data": {
      "text/html": [
       "<p><script type=\"text/x-mathjax-config\">MathJax.Hub.Config({tex2jax: {inlineMath: [['$','$'], ['\\\\(','\\\\)']]}});</script><script src='https://cdnjs.cloudflare.com/ajax/libs/mathjax/2.7.3/latest.js?config=TeX-AMS_CHTML'></script>- $\\tilde{\\sigma}_A=0.25\\quad\\Rightarrow\\hat{\\mu} = 0.227,\\quad\\left|\\hat{\\mu}-\\mu\\right| = 1.537$</p>"
      ],
      "text/plain": [
       "<IPython.core.display.HTML object>"
      ]
     },
     "metadata": {},
     "output_type": "display_data"
    },
    {
     "data": {
      "text/html": [
       "<p><script type=\"text/x-mathjax-config\">MathJax.Hub.Config({tex2jax: {inlineMath: [['$','$'], ['\\\\(','\\\\)']]}});</script><script src='https://cdnjs.cloudflare.com/ajax/libs/mathjax/2.7.3/latest.js?config=TeX-AMS_CHTML'></script>- $\\tilde{\\sigma}_A=0.50\\quad\\Rightarrow\\hat{\\mu} = 0.759,\\quad\\left|\\hat{\\mu}-\\mu\\right| = 1.005$</p>"
      ],
      "text/plain": [
       "<IPython.core.display.HTML object>"
      ]
     },
     "metadata": {},
     "output_type": "display_data"
    },
    {
     "data": {
      "text/html": [
       "<p><script type=\"text/x-mathjax-config\">MathJax.Hub.Config({tex2jax: {inlineMath: [['$','$'], ['\\\\(','\\\\)']]}});</script><script src='https://cdnjs.cloudflare.com/ajax/libs/mathjax/2.7.3/latest.js?config=TeX-AMS_CHTML'></script>- $\\tilde{\\sigma}_A=1.00\\quad\\Rightarrow\\hat{\\mu} = 1.838,\\quad\\left|\\hat{\\mu}-\\mu\\right| = 0.074$</p>"
      ],
      "text/plain": [
       "<IPython.core.display.HTML object>"
      ]
     },
     "metadata": {},
     "output_type": "display_data"
    },
    {
     "data": {
      "text/html": [
       "<p><script type=\"text/x-mathjax-config\">MathJax.Hub.Config({tex2jax: {inlineMath: [['$','$'], ['\\\\(','\\\\)']]}});</script><script src='https://cdnjs.cloudflare.com/ajax/libs/mathjax/2.7.3/latest.js?config=TeX-AMS_CHTML'></script>- $\\tilde{\\sigma}_A=2.00\\quad\\Rightarrow\\hat{\\mu} = 2.851,\\quad\\left|\\hat{\\mu}-\\mu\\right| = 1.087$</p>"
      ],
      "text/plain": [
       "<IPython.core.display.HTML object>"
      ]
     },
     "metadata": {},
     "output_type": "display_data"
    },
    {
     "data": {
      "text/html": [
       "<p><script type=\"text/x-mathjax-config\">MathJax.Hub.Config({tex2jax: {inlineMath: [['$','$'], ['\\\\(','\\\\)']]}});</script><script src='https://cdnjs.cloudflare.com/ajax/libs/mathjax/2.7.3/latest.js?config=TeX-AMS_CHTML'></script>- $\\tilde{\\sigma}_A=4.00\\quad\\Rightarrow\\hat{\\mu} = 3.306,\\quad\\left|\\hat{\\mu}-\\mu\\right| = 1.542$</p>"
      ],
      "text/plain": [
       "<IPython.core.display.HTML object>"
      ]
     },
     "metadata": {},
     "output_type": "display_data"
    }
   ],
   "source": [
    "## Define the list of sigma_a_tilde\n",
    "sigma_a_tilde_list = [0.25, 0.5, 1, 2, 4]\n",
    "\n",
    "print_math('By using MAP with different values of $\\\\tilde{{\\\\sigma}}_A$ we get:')\n",
    "for i, sigma_a_tilde in enumerate(sigma_a_tilde_list):\n",
    "    ## Calaulte the MLE estimation for the mean value\n",
    "    mu_hat_map_tilde = sigma_a_tilde ** 2 / (sigma_x ** 2 / n_samples + sigma_a_tilde ** 2) * np.mean(x)\n",
    "    \n",
    "    ## Calaulte the estimation error\n",
    "    estimation_error_map_tilde = np.abs(mu_hat_map_tilde-a)\n",
    "\n",
    "    print_math('- $\\\\tilde{{\\\\sigma}}_A={:.2f}\\\\quad\\\\Rightarrow\\\\hat{{\\\\mu}} = {:.3f},\\\\quad\\\\left|\\\\hat{{\\\\mu}}-\\\\mu\\\\right| = {:.3f}$'.format(sigma_a_tilde, mu_hat_map_tilde, estimation_error_map_tilde))\n"
   ]
  },
  {
   "cell_type": "markdown",
   "metadata": {},
   "source": [
    "To get a bit more intuition, let us plotting $\\hat{\\mu}$ as a function of $\\tilde{\\sigma}_A$"
   ]
  },
  {
   "cell_type": "code",
   "execution_count": null,
   "metadata": {},
   "outputs": [
    {
     "data": {
      "image/png": "[encoded data removed]",
      "text/plain": [
       "<Figure size 450x450 with 1 Axes>"
      ]
     },
     "metadata": {
      "needs_background": "light"
     },
     "output_type": "display_data"
    }
   ],
   "source": [
    "sigma_a_grid = np.logspace(-2, 2, 1000)\n",
    "mu_hat_map_grid = sigma_a_grid ** 2 / (sigma_x ** 2 / n_samples + sigma_a_grid ** 2) * np.mean(x)\n",
    "fig, ax = plt.subplots()\n",
    "ax.set_xscale('log')\n",
    "ax.plot(sigma_a_grid, mu_hat_map_grid, label='MAP')\n",
    "ax.plot([sigma_a_grid[0], sigma_a_grid[-1]], [mu_hat_mle, mu_hat_mle], '--', label='MLE')\n",
    "ax.plot([sigma_a_grid[0], sigma_a_grid[-1]], [a, a], '--', label='True')\n",
    "ax.set_title('Mean Value Estimation')\n",
    "ax.set_ylabel('Mean Value')\n",
    "ax.set_xlabel('$\\\\tilde{{\\\\sigma}}_A$')\n",
    "ax.legend();"
   ]
  },
  {
   "cell_type": "markdown",
   "metadata": {},
   "source": [
    "### Interpretation\n",
    "\n",
    "In this case, of a normal distributions as a prior and a normal distribution as a model, the MAP estimation will be a weighted average between the MLE result of $\\hat{\\mu}=3.492$ and the mean value of the prior distribution, which is 0 in this case.\n",
    "\n",
    "Not surprisingly we get the best results when our prior is the exact the true underlying distribution with: $\\tilde{\\sigma}_A=\\sigma_A=1$.\n",
    "\n",
    "When the prior is very strong, i.e. a very narrow Gaussian, $\\tilde{\\sigma}_A\\rightarrow 0$, this dictates that the probability of the mean value to be far from 0 is very low, which results in an estimation which is very close to 0.\n",
    "\n",
    "When the prior is very weak, i.e. a very wide Gaussian, $\\tilde{\\sigma}_A\\rightarrow\\infty$, the prior probability becomes close to uniform in the relevant range of values. This is equal to not using a prior at all, and the MAP estimation approaches the MLE.\n",
    "\n",
    "In general, using a prior could also give results which are worse than the MLE. This would happen for example if as a prior we would use a normal distribution with a mean value which is very different then the true mean value of $A$.\n",
    "\n",
    "In practice in many cases it is hard to choose a good prior, a fact which makes the MAP approach a bit more difficult to use in practice."
   ]
  },
  {
   "cell_type": "code",
   "execution_count": null,
   "metadata": {},
   "outputs": [
    {
     "data": {
      "text/html": [
       "<link rel=\"stylesheet\" href=\"../css/style.css\"> <!--Setting styles - You can simply ignore this line-->\n"
      ],
      "text/plain": [
       "<IPython.core.display.HTML object>"
      ]
     },
     "metadata": {},
     "output_type": "display_data"
    }
   ],
   "source": [
    "%%html\n",
    "<link rel=\"stylesheet\" href=\"../css/style.css\"> <!--Setting styles - You can simply ignore this line-->"
   ]
  }
 ],
 "metadata": {},
 "nbformat": 4,
 "nbformat_minor": 2
}
