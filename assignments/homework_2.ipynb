{
 "cells": [
  {
   "cell_type": "markdown",
   "metadata": {},
   "source": [
    "# Homework 2 - K-Means"
   ]
  },
  {
   "cell_type": "markdown",
   "metadata": {},
   "source": [
    "In this assignment, we will solve the same problem which appeared in workshop 4, but this time using the K-Medians algorithm instead of the K-Means algorithm.\n",
    "\n",
    "(This assignment does not rely on the content of the workshop for solving it)."
   ]
  },
  {
   "cell_type": "markdown",
   "metadata": {},
   "source": [
    "## Reminders\n",
    "\n",
    "- Start by making a copy of this notebook in order to be able to save it.\n",
    "- Use **Ctrl+[** to expend all cells.\n",
    "- You can find the documentation for the NumPy functions (the functions starting with *np.*) [here](https://docs.scipy.org/doc/numpy/index.html)\n",
    "- You can find the documentation for the SciPy functions (the functions imported from scipy) [here](https://docs.scipy.org/doc/scipy/reference/)\n",
    "\n",
    "## Tip of the day\n",
    "\n",
    "- You can adjust your preferences such, as adding line numbers to your code cells and changing the default indentation to 4,  in the tools->preferences menu."
   ]
  },
  {
   "cell_type": "markdown",
   "metadata": {},
   "source": [
    "## Your IDs\n",
    "\n",
    "✍️ Fill in your IDs in the cell below:"
   ]
  },
  {
   "cell_type": "code",
   "execution_count": null,
   "metadata": {},
   "outputs": [],
   "source": [
    "## %%%%%%%%%%%%%%% Your code here - Begin %%%%%%%%%%%%%%%\n",
    "# Replace the IDs bellow with our own\n",
    "student1_id = '012345678'\n",
    "student2_id = '012345678'\n",
    "## %%%%%%%%%%%%%%% Your code here - End %%%%%%%%%%%%%%%%%\n",
    "\n",
    "print('Hello ' + student1_id + ' & ' + student2_id)"
   ]
  },
  {
   "cell_type": "markdown",
   "metadata": {},
   "source": [
    "### Importing Packages\n",
    "\n",
    "Importing the NumPy, Pandas and Matplotlib packages."
   ]
  },
  {
   "cell_type": "code",
   "execution_count": null,
   "metadata": {},
   "outputs": [],
   "source": [
    "import numpy as np\n",
    "import pandas as pd\n",
    "import matplotlib.pyplot as plt\n",
    "\n",
    "## This line makes matplotlib plot the figures inside the notebook\n",
    "%matplotlib inline"
   ]
  },
  {
   "cell_type": "markdown",
   "metadata": {},
   "source": [
    "## 🚖 The NYC (New York City) Taxi Dataset \n",
    "\n",
    "As part of the effort of NYC to make its data publicly available and accessible, the city releases every month the full list of all taxi rides around the city. We will be using the dataset from January 2016, which can be found [here](https://www1.nyc.gov/site/tlc/about/tlc-trip-record-data.page)\n",
    "\n",
    "The full dataset includes over 10M taxi rides. In our course, we will be using a smaller subset of this dataset with only 100k rides (which has also been cleaned up a bit). The smaller dataset, which we will be using, can be found [here](https://technion046195.github.io/semester_2019_spring/datasets/nyc_taxi_rides.csv)\n",
    "\n",
    "We will start by loading the data and printing the 10 first rows:"
   ]
  },
  {
   "cell_type": "code",
   "execution_count": null,
   "metadata": {},
   "outputs": [],
   "source": [
    "data_file = 'https://technion046195.github.io/semester_2019_spring/datasets/nyc_taxi_rides.csv'\n",
    "\n",
    "## Loading the data\n",
    "dataset = pd.read_csv(data_file)\n",
    "\n",
    "## Print the number of rows in the data set\n",
    "number_of_rows = len(dataset)\n",
    "print('Number of rows in the dataset: N={}'.format(number_of_rows))\n",
    "\n",
    "## Show the first 10 rows\n",
    "dataset.head(10)"
   ]
  },
  {
   "cell_type": "markdown",
   "metadata": {},
   "source": [
    "In this exercise we will only be interested in the following columns:\n",
    "\n",
    "- **dropoff_easting** - The horizontal coordinate (east-west) (in UTM-WGS84 (~ in kilometers))\n",
    "- **dropoff_northing** - The vertical coordinate (north-south) (in UTM-WGS84 (~ in kilometers))\n",
    "\n",
    "(A full description for each of the other columns can be found [here](https://www1.nyc.gov/assets/tlc/downloads/pdf/data_dictionary_trip_records_yellow.pdf))\n",
    "\n",
    "<br>\n",
    "\n",
    "✍️ Define the $2\\times N$ array $X$ of drop off locations. To extract more then one column from a DataFrame use the following syntax: \n",
    "\n",
    "``` python\n",
    "array = dataframe[['column1', 'column2']].values\n",
    "```"
   ]
  },
  {
   "cell_type": "code",
   "execution_count": null,
   "metadata": {},
   "outputs": [],
   "source": [
    "## %%%%%%%%%%%%%%% Your code here - Begin %%%%%%%%%%%%%%%\n",
    "x_full = dataset[...\n",
    "## %%%%%%%%%%%%%%% Your code here - End %%%%%%%%%%%%%%%%%\n",
    "\n",
    "print('The first 10 rows in X are:\\n{}'.format(x_full[:10, :]))"
   ]
  },
  {
   "cell_type": "markdown",
   "metadata": {},
   "source": [
    "The following code plots the map of drop off points"
   ]
  },
  {
   "cell_type": "code",
   "execution_count": null,
   "metadata": {},
   "outputs": [],
   "source": [
    "## Plot the map\n",
    "fig = plt.figure(figsize=(12, 12))\n",
    "ax = fig.add_subplot(1, 1, 1)\n",
    "ax.grid(True)\n",
    "ax.plot(x_full[:, 0], x_full[:, 1], '.', markersize=0.5);\n",
    "ax.set_title('Dropoffs');"
   ]
  },
  {
   "cell_type": "markdown",
   "metadata": {},
   "source": [
    "Make sure that that the figure you got resembles the shape of the streets in NYC: [map](https://www.google.com/maps/@40.7328589,-73.9545177,13z)"
   ]
  },
  {
   "cell_type": "markdown",
   "metadata": {},
   "source": [
    "## 📚 Splitting the Data\n",
    "\n",
    "✍️ Complete the code below to split the data into 80% train set and 20% test set\n",
    "\n",
    "#### A comment about NumPy indexing\n",
    "\n",
    "Given a NumPy array *a* of length $N$ use can use the following command to extract a slice of the array:\n",
    "- *a[4:8]* - Returns the sub array: $\\left[a_4,a_5,a_6,a_7\\right]$ (from $a_4$ to $a_8$ (not including))\n",
    "- *a[:8]* - Returns the sub array: $\\left[a_0,a_1,...,a_6,a_7\\right]$ (from the beginning of the array up to $a_8$ (not including))\n",
    "- *a[4:]* - Returns the sub array: $\\left[a_4,a_5,...,a_{N-2},a_{N}\\right]$ (from $a_4$ to the end of the array)\n",
    "- *a[[5,2,7]]* - Returns the sub array: $\\left[a_5,a_2,a_7\\right]$ (the values at selected locations)"
   ]
  },
  {
   "cell_type": "code",
   "execution_count": null,
   "metadata": {},
   "outputs": [],
   "source": [
    "n_samples = x_full.shape[0]\n",
    "\n",
    "## Create a random generator using a fixed seed (we will always prefer to fix the seed so that the results will be reproducible).\n",
    "rand_gen = np.random.RandomState(0)\n",
    "\n",
    "## %%%%%%%%%%%%%%% Your code here - Begin %%%%%%%%%%%%%%%\n",
    "## Generating a vector of indices\n",
    "indices = np.arange(... ## Use the function np.arange to create the array of: [0, 1, 2, ..., n_samples]\n",
    "\n",
    "## Shuffle the indices\n",
    "rand_gen.shuffle(indices)\n",
    "\n",
    "## Split the indices into 80% train / 20% test\n",
    "n_samples_train = int(n_samples * 0.8)\n",
    "n_samples_test = n_samples - n_samples_train\n",
    "train_indices = indices[... ## Assign the first n_samples_train values of the indices array to train_indices\n",
    "test_indices = indices[... ## Assign the last n_samples_test values of the indices array to test_indices\n",
    "\n",
    "x_train = x_full[... ## Assign the values of x_full to x_train and x_test by using the train_indices and  test_indices\n",
    "x_test = x_full[...\n",
    "## %%%%%%%%%%%%%%% Your code here - End %%%%%%%%%%%%%%%%%\n",
    "\n",
    "print('The shape of x_train is: {}'.format(x_train.shape))\n",
    "print('The shape of x_test is: {}'.format(x_test.shape))"
   ]
  },
  {
   "cell_type": "markdown",
   "metadata": {},
   "source": [
    "## ❓️ Problem 1: Finding The Optimal Parking Lots Locations\n",
    "\n",
    "A NY taxi company is looking to rent $K$ parking lots so that their taxis can wait in them in between rides.\n",
    "\n",
    "It would like to select the optimal locations to place these parking lots such that the average distance from the drop off location to the nearest parking lot will be minimal.\n",
    "\n",
    "## The $L1$ (Manhattan) Distance.\n",
    "\n",
    "In the workshop we have searched for the best $K$ locations which will minimize the $L2$ (Euclidean) distances, but actually, in the case of NYC, it makes more sense to minimize the $L1$ distance. \n",
    "\n",
    "Reminder: for two $d$ dimensional vectors $\\boldsymbol{x}=[x_1, x_2, ..., x_d ]^T$ and $\\boldsymbol{y}=[y_1, y_2, ..., y_d ]^T$ , the $L2$ (Euclidean) distance between the two vectors is define as:\n",
    "\n",
    "$$\n",
    "\\left\\lVert x-y\\right\\rVert_2=\\sqrt{\\sum_i\\left(x_i-y_i\\right)^2}\n",
    "$$\n",
    "\n",
    "the $L1$ (Manhattan) distance between the vectors is defined as:\n",
    "\n",
    "$$\n",
    "\\left\\lVert x-y\\right\\rVert_1=\\sum_i\\left|x_i-y_i\\right|\n",
    "$$\n",
    "\n",
    "\n",
    "While the $L2$ distance corresponds to the length of the straight line between the 2 points (the length of the green line in the figure below) the $L1$ distance corresponds to taking a path which only moves in parallel to the axis (the length of yellow, blue and red lines, which all have the same length). Since the streets of Manhattan are designed as a square grid the actual driving distance between two points in the city is the $L1$ distance between them.\n",
    "\n",
    "<center><img src=\"https://upload.wikimedia.org/wikipedia/commons/thumb/0/08/Manhattan_distance.svg/500px-Manhattan_distance.svg.png\" width=\"300px\" style=\"width:300px\"/></center>\n",
    "\n",
    "([image was taken from Wikipedia](https://en.wikipedia.org/wiki/Taxicab_geometry))\n",
    "\n"
   ]
  },
  {
   "cell_type": "markdown",
   "metadata": {},
   "source": [
    "✍️  Write two functions which calculate the $L1$ and $L2$ distance between two vectors. \n",
    "\n",
    "Assume that the inputs *x* and *y* are 1D arrays and use *np.abs*, *np.sqrt*, *np.sum* and the basic operators *x-y* and  *x**2* to calculate the norms"
   ]
  },
  {
   "cell_type": "code",
   "execution_count": null,
   "metadata": {},
   "outputs": [],
   "source": [
    "## %%%%%%%%%%%%%%% Your code here - Begin %%%%%%%%%%%%%%%\n",
    "def calc_l1_dist(x, y):\n",
    "    norm = ...\n",
    "    return norm\n",
    "\n",
    "def calc_l2_dist(x, y):\n",
    "    norm = ...\n",
    "    return norm\n",
    "## %%%%%%%%%%%%%%% Your code here - End %%%%%%%%%%%%%%%%%\n",
    "\n",
    "## Testing the functions\n",
    "v1 = np.array([0, 0])\n",
    "v2 = np.array([3, 0])\n",
    "v3 = np.array([0, 4])\n",
    "v4 = np.array([3, 4])\n",
    "  \n",
    "print('v1 = {}'.format(v1))\n",
    "print('v2 = {}'.format(v2))\n",
    "print('v3 = {}'.format(v3))\n",
    "print('v4 = {}'.format(v4))\n",
    "\n",
    "print('L1 norm beteen v1 and v2: {:.2f}'.format(calc_l1_dist(v1, v2)))\n",
    "print('L2 norm beteen v1 and v2: {:.2f}'.format(calc_l2_dist(v1, v2)))\n",
    "print('')\n",
    "print('L1 norm beteen v2 and v3: {:.2f}'.format(calc_l1_dist(v2, v3)))\n",
    "print('L2 norm beteen v2 and v3: {:.2f}'.format(calc_l2_dist(v2, v3)))\n",
    "print('')\n",
    "print('L1 norm beteen v1 and v4: {:.2f}'.format(calc_l1_dist(v1, v4)))\n",
    "print('L2 norm beteen v1 and v4: {:.2f}'.format(calc_l2_dist(v1, v4)))"
   ]
  },
  {
   "cell_type": "markdown",
   "metadata": {},
   "source": [
    "## The cdist functions\n",
    "\n",
    "A much more efficient way to calculate all the distances between two lists of vectors would be to use the [cdist](https://docs.scipy.org/doc/scipy/reference/generated/scipy.spatial.distance.cdist.html) function from the scipy package. The third parameter of this function define the type of distance which is to be used: *euclidean* for $L2$ and *cityblock* for $L1$.\n",
    "\n",
    "✍️ Complete the following code which calculates all the $L1$ and $L2$ distances between all of the above $v$ vectors "
   ]
  },
  {
   "cell_type": "code",
   "execution_count": null,
   "metadata": {},
   "outputs": [],
   "source": [
    "## Put all the vectors in to one 2D array\n",
    "v = np.stack((v1, v2, v3, v4), axis=0)\n",
    "\n",
    "from scipy.spatial.distance import cdist\n",
    "all_l2_distances = cdist(v, v, 'euclidean')\n",
    "## %%%%%%%%%%%%%%% Your code here - Begin %%%%%%%%%%%%%%%\n",
    "all_l1_distances = cdist(...\n",
    "## %%%%%%%%%%%%%%% Your code here - End %%%%%%%%%%%%%%%%%\n",
    "\n",
    "print('The L1 distances between the v vectors is given by:\\n{}'.format(all_l1_distances))\n",
    "print('')\n",
    "print('The L2 distances between the v vectors is given by:\\n{}'.format(all_l2_distances))"
   ]
  },
  {
   "cell_type": "markdown",
   "metadata": {},
   "source": [
    "## Rotating the map\n",
    "\n",
    "In order for the L1 distance to actually be the ride distance, we need to rotate the map such that the streets of NYC will be parallel to the axis.\n",
    "\n",
    "✍️ Rotate the array of drop off points $x$ such that:\n",
    "- The streets of NYC (going from South-East to North-West) will be parallel to the x axis\n",
    "- The Avenues of NYC (going from South-west to North-East) will be parallel to the y axis.\n",
    "\n",
    "Do so by constructing a rotation matrix, and multiply $x$ by that matrix to get the rotated drop off points.\n",
    "\n",
    "Use the following:\n",
    "\n",
    "- A normalized vector pointing in a direction parallel to the avenues of NYC: \n",
    "\n",
    "$$\n",
    "\\boldsymbol{e}_1=\\left(0.88, -0.47\\right)^T\n",
    "$$\n",
    "\n",
    "- A normalized vector pointing in a direction parallel to the streets of NYC: \n",
    "$$\n",
    "\\boldsymbol{e}_2=\\left(0.47, 0.88\\right)^T\n",
    "$$\n",
    "\n",
    "- To define a following 2 by 2 array (matrix)\n",
    "$$\n",
    "\\begin{bmatrix}\n",
    "    10 & 20 \\\\\n",
    "    30 & 40 \\\\\n",
    "\\end{bmatrix}\n",
    "$$\n",
    "in Numpy use the following syntax:\n",
    "```python\n",
    "np.array(((10, 20), (30, 40)))\n",
    "```\n",
    "\n",
    "Use *A @ B* to do matrix multiplications between 2 numpy arrays."
   ]
  },
  {
   "cell_type": "code",
   "execution_count": null,
   "metadata": {},
   "outputs": [],
   "source": [
    "## %%%%%%%%%%%%%%% Your code here - Begin %%%%%%%%%%%%%%%\n",
    "rot_mat = np.array(...  ## create the rotation matrix.\n",
    "x_rot_train = ...  ## calculate the rotated version of x_train.\n",
    "## %%%%%%%%%%%%%%% Your code here - End %%%%%%%%%%%%%%%\n",
    "\n",
    "## Plot the map\n",
    "fig = plt.figure(figsize=(12, 12))\n",
    "ax = fig.add_subplot(1, 1, 1)\n",
    "ax.grid(True)\n",
    "ax.plot(x_rot_train[:, 0], x_rot_train[:, 1], '.', markersize=0.5);\n",
    "ax.set_title('Rotated Dropoffs');"
   ]
  },
  {
   "cell_type": "markdown",
   "metadata": {},
   "source": [
    "Make sure that that the streets are now more or less aligned to x and y axis"
   ]
  },
  {
   "cell_type": "markdown",
   "metadata": {},
   "source": [
    "## The K-Medians algorithm\n",
    "\n",
    "Similar to the K-Means algorithm, which tries to minimize the sum of squared $L2$ distances between each point and one of the $K$ centers, there is also a K-Medians algorithm which tries to minimize the sum of $L1$ distances.\n",
    "\n",
    "As we saw for the case of the $L2$, the center point which minimizes the sum of squared $L2$ distances from a given set of points, is the **mean** point of the given points.\n",
    "\n",
    "Equivalently, the center point which minimizes the sum of $L1$ distances from a given set of points is the point which is **median** (in each one of the axis) of the given points.\n",
    "\n",
    "### Reminder\n",
    "\n",
    "The median (חציון) of an odd set of numbers is the number which has the same amount of numbers larger than him as the amount of numbers smaller than him. For example, the median of $\\left(11, 15, 20, 26, 29\\right)$  is $20$.\n",
    "\n",
    "For the case of an even set of points, the median is usually defined as the mean of the two center points or example, the median of $\\left(11, 15, 20, 26\\right)$  is $\\left(15+20\\right)/2=17.5$.\n",
    "\n",
    "\n",
    "### ✍️ Question 2.1\n",
    "Answer the following question on paper and add them to the theoretical part (החלק היבש) of the assignment.\n",
    "\n",
    "For the given set of points: $\\left(1, 2, 3,4, 5\\right)$ write the sum of $L1$ distances between this set of points and any given $x$. Show that the median is, in fact, the point which has the minimal sum of $L1$ distances to this set of points.\n",
    "\n",
    "\n",
    "### The Algorithm\n",
    "\n",
    "The K-Means algorithm differs from the K-Medians algorithm in the following way:\n",
    "\n",
    "1. The assignment of each point the nearest center will now be based upon the $L1$ distance instead of the $L2$ distance.\n",
    "2. The center will be now calculated using the Median value insted of Mean value.\n",
    "\n",
    "✍️ Complete the following code so that it will implement the K-Medians algorithm:"
   ]
  },
  {
   "cell_type": "code",
   "execution_count": null,
   "metadata": {},
   "outputs": [],
   "source": [
    "def plot_clusters(x, assignment, parking_lots_locations, title, small=False):\n",
    "  if small:\n",
    "    fig, ax = plt.subplots(figsize=(4, 4))\n",
    "  else:\n",
    "    fig, ax = plt.subplots(figsize=(12, 12))\n",
    "  for i_cluster in range(len(parking_lots_locations)):\n",
    "      cluster_indices = assignment == i_cluster\n",
    "      ax.plot(x[cluster_indices, 0], x[cluster_indices, 1], '.', markersize=1)\n",
    "  ax.plot(parking_lots_locations[:, 0], parking_lots_locations[:, 1], 'xk', markersize=20)[0]\n",
    "  ax.grid(True);\n",
    "  ax.set_title(title)\n",
    "\n",
    "def calc_k_medians(x, k, num_of_iteretions_to_plot=0):\n",
    "  \n",
    "  n_samples = len(x)\n",
    "\n",
    "  ## Create a random generator using a fixed seed.\n",
    "  rand_gen = np.random.RandomState(0)\n",
    "\n",
    "  ## Initialize the centers using k random points from the dataset.\n",
    "  centers = x[rand_gen.randint(low=0, high=n_samples, size=k)]\n",
    "\n",
    "  ## Initialize the assignment vector which defines to which cluster each point belongs.\n",
    "  ## Under this initilization all point belong to to cluster 0.\n",
    "  assignment = np.zeros(n_samples, dtype=int)\n",
    "\n",
    "  i_step = 0\n",
    "  stop_iterations = False\n",
    "  while not stop_iterations:\n",
    "      i_step += 1\n",
    "      assignment_old = assignment\n",
    "\n",
    "      ## %%%%%%%%%%%%%%% Your code here - Begin %%%%%%%%%%%%%%%\n",
    "      ## Step 1: Assign points to medians\n",
    "      distances = cdist(...  ## Calculate the distances matrix of all the distances between all the x's and all the centers. Make sure you use the L1 distance\n",
    "      assignment = np.argmin(distances, axis=1)\n",
    "\n",
    "      ## Stop criteria\n",
    "      if (assignment == assignment_old).all():\n",
    "          stop_iterations = True\n",
    "\n",
    "      ## Step 2: Update medians\n",
    "      for i_cluster in range(k):\n",
    "          cluster_indices = assignment == i_cluster\n",
    "          x_in_cluster = x[...  ## Create a sub set of x which include only the point which belong to the i-th cluster.\n",
    "          centers[i_cluster] = np.median(...  ## use the axis argument to tell the median function over which axis to operate. It is used in a similar manner as the axis argument of the np.argmin above.\n",
    "      ## %%%%%%%%%%%%%%% Your code here - End %%%%%%%%%%%%%%%\n",
    "\n",
    "      ## Plot the first num_of_iteretions_to_plot\n",
    "      if i_step < num_of_iteretions_to_plot:\n",
    "        plot_clusters(x, assignment, centers, 'Iteration {}'.format(i_step), small=True)\n",
    "\n",
    "  parking_lots_locations = centers\n",
    "  \n",
    "  return parking_lots_locations, assignment\n",
    "\n",
    "## Define K\n",
    "k = 5\n",
    "\n",
    "## Run the algorithm\n",
    "parking_lots_locations, assignment = calc_k_medians(x_rot_train, k, num_of_iteretions_to_plot=5) \n",
    "  \n",
    "plot_clusters(x_rot_train, assignment, parking_lots_locations, 'Final result')"
   ]
  },
  {
   "cell_type": "markdown",
   "metadata": {},
   "source": [
    "## The average ride distance\n",
    "\n",
    "✍️ Complete the code below to calculate the average ride distance to a parking lot using the test set"
   ]
  },
  {
   "cell_type": "code",
   "execution_count": null,
   "metadata": {},
   "outputs": [],
   "source": [
    "## %%%%%%%%%%%%%%% Your code here - Begin %%%%%%%%%%%%%%%\n",
    "def calc_average_distance(parking_locations, x):\n",
    "    k = parking_locations.shape[0]\n",
    "    all_distances = cdist( ...\n",
    "    distance_to_closest = all_distances.min(axis=...\n",
    "    average_distance = ...\n",
    "    return ...\n",
    "\n",
    "x_rot_test = ... ## calculate the rotated version of x_test.\n",
    "## %%%%%%%%%%%%%%% Your code here - End %%%%%%%%%%%%%%%\n",
    "\n",
    "average_distance = calc_average_distance(parking_lots_locations, x_rot_test)\n",
    "print(\"The average ride distance to a praking lot is {:.2f} Km\".format(average_distance) )"
   ]
  },
  {
   "cell_type": "markdown",
   "metadata": {},
   "source": [
    "## ❓️ Problem 2: Finding The Optimal Number of Parking Lots\n",
    "\n",
    "Now let us address the topic of selecting the number of parking lots (the number of clusters)\n",
    "\n",
    "Basically, to reduce the average ride distance we would like as much parking lots as possible, but in practice operating a parking lots cost money. Let us assume that:\n",
    "\n",
    "1. The price of operating a parking lot is 10k\\\\$ per month.\n",
    "\n",
    "2. There will be exactly 100k rides to the parking lots per month.\n",
    "\n",
    "3. The estimated price per kilometer for when driving to the parking is estimated at 3$ / kilometer.\n",
    "\n",
    "Basically, we would now like to minimize the following risk function, which is the monthly cost (in k$) of operating the parking lots plus the cost of driving to them:\n",
    "\n",
    "$$\n",
    "\\hat{R}\\left(\\left\\{\\boldsymbol{c}_i\\right\\}, K\\right)= 10\\cdot K+3 \\cdot 100\\cdot\\frac{1}{N}\\sum_{i=1}^K\\sum_{\\boldsymbol{x}_j\\in S_i}\\left\\lVert\\boldsymbol{x}_j-\\boldsymbol{c}_i\\right\\rVert_1\n",
    "$$\n",
    "\n",
    "Where:\n",
    "\n",
    "- $K$ is the number of parking lots.\n",
    "- $\\left\\{\\boldsymbol{c}_i\\right\\}$ is the locations of the $K$ parking lots.\n",
    "- $N$ is the number of rides in the dataset.\n",
    "- $\\left\\{\\boldsymbol{x}_i\\right\\}$ is the set of dropping points in the data set.\n",
    "- $S_i$ is the set of dropping points which are assigned to the $i$-th parking lot.\n",
    "\n",
    "✍️ Complete the following code to calculate for calculating the risk function:"
   ]
  },
  {
   "cell_type": "code",
   "execution_count": null,
   "metadata": {},
   "outputs": [],
   "source": [
    "## %%%%%%%%%%%%%%% Your code here - Begin %%%%%%%%%%%%%%%\n",
    "def calc_risk(parking_lots_locations, x, cost_per_parking, cost_per_avarage_distance):\n",
    "  average_distance = ... ## use the calc_average_distance function\n",
    "  risk = ... ## Calculate the risk\n",
    "  return ...\n",
    "## %%%%%%%%%%%%%%% Your code here - End %%%%%%%%%%%%%%%%%\n",
    "\n",
    "cost_per_parking = 10\n",
    "cost_per_avarage_distance = 300\n",
    "\n",
    "risk = calc_risk(parking_lots_locations, x_rot_test, cost_per_parking, cost_per_avarage_distance)\n",
    "\n",
    "print('For {} parking lots, the monthly cost would be: {:.2f}k $'.format(k, risk))"
   ]
  },
  {
   "cell_type": "markdown",
   "metadata": {},
   "source": [
    "## Brute force optimization\n",
    "\n",
    "We will find the optimal $K$ simply be checking all the relevant values of $K$. For this case, we will check all $K$'s between 1 and 30.\n",
    "\n",
    "We will use a 3-fold split (60% train, 20% validation, 20% test) for selecting the optimal $K$. \n",
    "\n",
    "\n",
    "✍️ Complete the following code to split the data and calculate the risks for $K=1,2,3,...,30$. Make sure you use the train, validation and test set in the appropriate places."
   ]
  },
  {
   "cell_type": "code",
   "execution_count": null,
   "metadata": {},
   "outputs": [],
   "source": [
    "## %%%%%%%%%%%%%%% Your code here - Begin %%%%%%%%%%%%%%%\n",
    "## Split the indices into 60% train / 20% validation / 20% test\n",
    "n_samples_train = ...\n",
    "n_samples_validataion = ...\n",
    "n_samples_test = n_samples - n_samples_train - n_samples_validataion\n",
    "\n",
    "train_indices = indices[...\n",
    "validataion_indices = indices[n_samples_train:(n_samples_train + n_samples_validataion)]\n",
    "test_indices = indices[...\n",
    "\n",
    "x_train = ...\n",
    "x_validataion = ...\n",
    "x_test = ...\n",
    "\n",
    "x_rot_train = ...\n",
    "x_rot_validataion = ...\n",
    "x_rot_test = ...\n",
    "\n",
    "## Create the array of relevant K's\n",
    "k_array = ... ## Use np.arange to create the array [1,2,3,...,30] (just for debug print k_array just to be sure you did not include 0 and did included 30)\n",
    "## Initialize the risks_array\n",
    "risks_array = np.zeros(k_array.shape)\n",
    "\n",
    "for i_k, k in enumerate(k_array):  ## enumerate makes the loop run over the pairs of the counter index of 0,1,...,29 and values of the k_array.\n",
    "  parking_lots_locations, assignment = ... # Use the calc_k_medians function here. Do not plot the iteretions of the algorithm\n",
    "  risks_array[i_k] = ... ## use the calc_risk function here.\n",
    "\n",
    "## Plot the risk vs. K\n",
    "fig, ax = plt.subplots()\n",
    "ax.plot(k_array, risks_array)\n",
    "ax.set_title('Cost vs. K')\n",
    "ax.set_ylabel('Cost [k$]')\n",
    "ax.set_xlabel('K')\n",
    "ax.grid(True);\n",
    "\n",
    "## Find the optimal K\n",
    "optimal_index = np.argmin(risks_array)\n",
    "optimal_k = k_array[optimal_index]\n",
    "optimal_parking_lots_locations, assignment = ...\n",
    "optimal_risk = calc_risk(...\n",
    "## %%%%%%%%%%%%%%% Your code here - End %%%%%%%%%%%%%%%%%\n",
    "\n",
    "print('The optimal K is {}, with a monthly cost of {:.2f}'.format(optimal_k, optimal_risk))"
   ]
  },
  {
   "cell_type": "markdown",
   "metadata": {},
   "source": [
    "## Reminder: Submission\n",
    "\n",
    "To submit your code download it as a **ipynb** file from Colab, and upload it to the course's website. You can download this code by selecting **Download .ipynb** from the **file** menu."
   ]
  }
 ],
 "metadata": {
  "kernelspec": {
   "display_name": "Python 3",
   "language": "python",
   "name": "python3"
  }
 },
 "nbformat": 4,
 "nbformat_minor": 1
}
